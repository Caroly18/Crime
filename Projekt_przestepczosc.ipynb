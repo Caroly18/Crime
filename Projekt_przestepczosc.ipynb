{
 "cells": [
  {
   "cell_type": "markdown",
   "id": "020f0959",
   "metadata": {},
   "source": [
    "# Przewidywanie przestepstw przy uzyciu technik Data Mining"
   ]
  },
  {
   "cell_type": "markdown",
   "id": "4f7bee27",
   "metadata": {},
   "source": [
    "Celem projektu jest zbadanie wzorcow, ktore determinuja popelnianie przestepstw wsrod ludnosci zamieszkujacej Stany Zjednoczone. Dane pochodza z Law Enforcement Management and Admin Stats2 w 1990 roku i FBI Uniform Crime Reports z 1995 roku. "
   ]
  },
  {
   "cell_type": "code",
   "execution_count": 1,
   "id": "0b69c270",
   "metadata": {},
   "outputs": [
    {
     "name": "stderr",
     "output_type": "stream",
     "text": [
      "/Users/karolina/opt/anaconda3/lib/python3.9/site-packages/scipy/__init__.py:146: UserWarning: A NumPy version >=1.16.5 and <1.23.0 is required for this version of SciPy (detected version 1.26.4\n",
      "  warnings.warn(f\"A NumPy version >={np_minversion} and <{np_maxversion}\"\n"
     ]
    }
   ],
   "source": [
    "import pandas as pd\n",
    "import numpy as np\n",
    "import matplotlib.pyplot as plt\n",
    "import seaborn as sns\n",
    "%matplotlib inline"
   ]
  },
  {
   "cell_type": "code",
   "execution_count": 2,
   "id": "99138ee1",
   "metadata": {},
   "outputs": [],
   "source": [
    "crime = pd.read_csv('unnormalized_crime.csv', sep = ';')"
   ]
  },
  {
   "cell_type": "code",
   "execution_count": 3,
   "id": "98125089",
   "metadata": {},
   "outputs": [
    {
     "data": {
      "text/html": [
       "<div>\n",
       "<style scoped>\n",
       "    .dataframe tbody tr th:only-of-type {\n",
       "        vertical-align: middle;\n",
       "    }\n",
       "\n",
       "    .dataframe tbody tr th {\n",
       "        vertical-align: top;\n",
       "    }\n",
       "\n",
       "    .dataframe thead th {\n",
       "        text-align: right;\n",
       "    }\n",
       "</style>\n",
       "<table border=\"1\" class=\"dataframe\">\n",
       "  <thead>\n",
       "    <tr style=\"text-align: right;\">\n",
       "      <th></th>\n",
       "      <th>communityname</th>\n",
       "      <th>state</th>\n",
       "      <th>countyCode</th>\n",
       "      <th>communityCode</th>\n",
       "      <th>fold</th>\n",
       "      <th>population</th>\n",
       "      <th>householdsize</th>\n",
       "      <th>racepctblack</th>\n",
       "      <th>racePctWhite</th>\n",
       "      <th>racePctAsian</th>\n",
       "      <th>...</th>\n",
       "      <th>burglaries</th>\n",
       "      <th>burglPerPop</th>\n",
       "      <th>larcenies</th>\n",
       "      <th>larcPerPop</th>\n",
       "      <th>autoTheft</th>\n",
       "      <th>autoTheftPerPop</th>\n",
       "      <th>arsons</th>\n",
       "      <th>arsonsPerPop</th>\n",
       "      <th>ViolentCrimesPerPop</th>\n",
       "      <th>nonViolPerPop</th>\n",
       "    </tr>\n",
       "  </thead>\n",
       "  <tbody>\n",
       "    <tr>\n",
       "      <th>0</th>\n",
       "      <td>BerkeleyHeightstownship</td>\n",
       "      <td>NJ</td>\n",
       "      <td>39</td>\n",
       "      <td>5320</td>\n",
       "      <td>1</td>\n",
       "      <td>11980</td>\n",
       "      <td>3.10</td>\n",
       "      <td>1.37</td>\n",
       "      <td>91.78</td>\n",
       "      <td>6.50</td>\n",
       "      <td>...</td>\n",
       "      <td>14</td>\n",
       "      <td>114.85</td>\n",
       "      <td>138</td>\n",
       "      <td>1132.08</td>\n",
       "      <td>16</td>\n",
       "      <td>131.26</td>\n",
       "      <td>2</td>\n",
       "      <td>16.41</td>\n",
       "      <td>41.02</td>\n",
       "      <td>1394.59</td>\n",
       "    </tr>\n",
       "    <tr>\n",
       "      <th>1</th>\n",
       "      <td>Marpletownship</td>\n",
       "      <td>PA</td>\n",
       "      <td>45</td>\n",
       "      <td>47616</td>\n",
       "      <td>1</td>\n",
       "      <td>23123</td>\n",
       "      <td>2.82</td>\n",
       "      <td>0.80</td>\n",
       "      <td>95.57</td>\n",
       "      <td>3.44</td>\n",
       "      <td>...</td>\n",
       "      <td>57</td>\n",
       "      <td>242.37</td>\n",
       "      <td>376</td>\n",
       "      <td>1598.78</td>\n",
       "      <td>26</td>\n",
       "      <td>110.55</td>\n",
       "      <td>1</td>\n",
       "      <td>4.25</td>\n",
       "      <td>127.56</td>\n",
       "      <td>1955.95</td>\n",
       "    </tr>\n",
       "    <tr>\n",
       "      <th>2</th>\n",
       "      <td>Tigardcity</td>\n",
       "      <td>OR</td>\n",
       "      <td>?</td>\n",
       "      <td>?</td>\n",
       "      <td>1</td>\n",
       "      <td>29344</td>\n",
       "      <td>2.43</td>\n",
       "      <td>0.74</td>\n",
       "      <td>94.33</td>\n",
       "      <td>3.43</td>\n",
       "      <td>...</td>\n",
       "      <td>274</td>\n",
       "      <td>758.14</td>\n",
       "      <td>1797</td>\n",
       "      <td>4972.19</td>\n",
       "      <td>136</td>\n",
       "      <td>376.3</td>\n",
       "      <td>22</td>\n",
       "      <td>60.87</td>\n",
       "      <td>218.59</td>\n",
       "      <td>6167.51</td>\n",
       "    </tr>\n",
       "    <tr>\n",
       "      <th>3</th>\n",
       "      <td>Gloversvillecity</td>\n",
       "      <td>NY</td>\n",
       "      <td>35</td>\n",
       "      <td>29443</td>\n",
       "      <td>1</td>\n",
       "      <td>16656</td>\n",
       "      <td>2.40</td>\n",
       "      <td>1.70</td>\n",
       "      <td>97.35</td>\n",
       "      <td>0.50</td>\n",
       "      <td>...</td>\n",
       "      <td>225</td>\n",
       "      <td>1301.78</td>\n",
       "      <td>716</td>\n",
       "      <td>4142.56</td>\n",
       "      <td>47</td>\n",
       "      <td>271.93</td>\n",
       "      <td>?</td>\n",
       "      <td>?</td>\n",
       "      <td>306.64</td>\n",
       "      <td>?</td>\n",
       "    </tr>\n",
       "    <tr>\n",
       "      <th>4</th>\n",
       "      <td>Bemidjicity</td>\n",
       "      <td>MN</td>\n",
       "      <td>7</td>\n",
       "      <td>5068</td>\n",
       "      <td>1</td>\n",
       "      <td>11245</td>\n",
       "      <td>2.76</td>\n",
       "      <td>0.53</td>\n",
       "      <td>89.16</td>\n",
       "      <td>1.17</td>\n",
       "      <td>...</td>\n",
       "      <td>91</td>\n",
       "      <td>728.93</td>\n",
       "      <td>1060</td>\n",
       "      <td>8490.87</td>\n",
       "      <td>91</td>\n",
       "      <td>728.93</td>\n",
       "      <td>5</td>\n",
       "      <td>40.05</td>\n",
       "      <td>?</td>\n",
       "      <td>9988.79</td>\n",
       "    </tr>\n",
       "  </tbody>\n",
       "</table>\n",
       "<p>5 rows × 147 columns</p>\n",
       "</div>"
      ],
      "text/plain": [
       "             communityname state countyCode communityCode  fold  population  \\\n",
       "0  BerkeleyHeightstownship    NJ         39          5320     1       11980   \n",
       "1           Marpletownship    PA         45         47616     1       23123   \n",
       "2               Tigardcity    OR          ?             ?     1       29344   \n",
       "3         Gloversvillecity    NY         35         29443     1       16656   \n",
       "4              Bemidjicity    MN          7          5068     1       11245   \n",
       "\n",
       "   householdsize  racepctblack  racePctWhite  racePctAsian  ...  burglaries  \\\n",
       "0           3.10          1.37         91.78          6.50  ...          14   \n",
       "1           2.82          0.80         95.57          3.44  ...          57   \n",
       "2           2.43          0.74         94.33          3.43  ...         274   \n",
       "3           2.40          1.70         97.35          0.50  ...         225   \n",
       "4           2.76          0.53         89.16          1.17  ...          91   \n",
       "\n",
       "   burglPerPop  larcenies  larcPerPop  autoTheft  autoTheftPerPop  arsons  \\\n",
       "0       114.85        138     1132.08         16           131.26       2   \n",
       "1       242.37        376     1598.78         26           110.55       1   \n",
       "2       758.14       1797     4972.19        136            376.3      22   \n",
       "3      1301.78        716     4142.56         47           271.93       ?   \n",
       "4       728.93       1060     8490.87         91           728.93       5   \n",
       "\n",
       "   arsonsPerPop  ViolentCrimesPerPop  nonViolPerPop  \n",
       "0         16.41                41.02        1394.59  \n",
       "1          4.25               127.56        1955.95  \n",
       "2         60.87               218.59        6167.51  \n",
       "3             ?               306.64              ?  \n",
       "4         40.05                    ?        9988.79  \n",
       "\n",
       "[5 rows x 147 columns]"
      ]
     },
     "execution_count": 3,
     "metadata": {},
     "output_type": "execute_result"
    }
   ],
   "source": [
    "crime.head()"
   ]
  },
  {
   "cell_type": "code",
   "execution_count": 4,
   "id": "2fbd198c",
   "metadata": {},
   "outputs": [
    {
     "data": {
      "text/plain": [
       "(2215, 147)"
      ]
     },
     "execution_count": 4,
     "metadata": {},
     "output_type": "execute_result"
    }
   ],
   "source": [
    "crime.shape"
   ]
  },
  {
   "cell_type": "code",
   "execution_count": 5,
   "id": "81f6b70e",
   "metadata": {},
   "outputs": [
    {
     "name": "stdout",
     "output_type": "stream",
     "text": [
      "<class 'pandas.core.frame.DataFrame'>\n",
      "RangeIndex: 2215 entries, 0 to 2214\n",
      "Columns: 147 entries, communityname to nonViolPerPop\n",
      "dtypes: float64(75), int64(29), object(43)\n",
      "memory usage: 2.5+ MB\n"
     ]
    }
   ],
   "source": [
    "crime.info()"
   ]
  },
  {
   "cell_type": "code",
   "execution_count": 6,
   "id": "45df99ed",
   "metadata": {},
   "outputs": [
    {
     "data": {
      "text/plain": [
       "communityname          object\n",
       "state                  object\n",
       "countyCode             object\n",
       "communityCode          object\n",
       "fold                    int64\n",
       "                        ...  \n",
       "autoTheftPerPop        object\n",
       "arsons                 object\n",
       "arsonsPerPop           object\n",
       "ViolentCrimesPerPop    object\n",
       "nonViolPerPop          object\n",
       "Length: 147, dtype: object"
      ]
     },
     "execution_count": 6,
     "metadata": {},
     "output_type": "execute_result"
    }
   ],
   "source": [
    "crime.dtypes"
   ]
  },
  {
   "cell_type": "markdown",
   "id": "97fd7e46",
   "metadata": {},
   "source": [
    "Baza danych zawiera 147 zmiennych i 2215 obserwacji. Do analizy wybralam lacznie 8 zmiennych objasniajacych i 1 zmienna objasniana. Zmienne zostały wybrane na podstawie literatury m.in Beckera (Crime and Punishment: An Economic Approach, Journal of Political Economy, Vol. 76, No. 2, 1968),Cohena (Social change and crime trends: a routine activity approach. American Sociological Review 44 (4): 1979, s. 588−608.), Besci (Economics and Crime in the States, Economic Review – Federal Reserve Bank of Atlanta, Issue Q1 1999, s. 38-56.), Arbia (Spatial econometric modeling of massive datasets: The contribution of data mining, 2013.) i wielu innych.\n",
    "\n",
    "Wiecej szczegolow dotyczacych wyboru zmiennych przedstawilam w swojej pracy magisterskiej. Jesli chcesz sie dowiedziec wiecej, napisz :)\n",
    "\n",
    "## Zmienne\n",
    "\n",
    "Wybrano następujące zmienne, które będą wyjaśniały model: \n",
    "- bezrobocie jako procent bezrobocia (PctUnemployed)\n",
    "- wykształcenie jako procent osób, które ukończyły mniej niż 9 klas (PctLess9thGrade)\n",
    "- ubóstwo jako procent ludzi zyjacych ponizej poziomu ubostwa (PctPopUnderPov)\n",
    "- pomoc społeczna jako procent osób pobierających zasiłki (pctWPubAsst)\n",
    "- wynagrodzenie jako mediana dochodu (medIncome)\n",
    "- urbanizacja jako liczba osob zamieszkajacych dany region (numbUrban)\n",
    "- wiek jako procent ludzi pomiedzy 12 a 29 rokiem zycia (agePct12t29)\n",
    "- rozwody jako procent rozwodow (TotalPctDiv)\n",
    "\n",
    "\n",
    "Zmienna objaśniająca to liczba przestępstw bez przemocy na 100 tys. mieszkańców (nonViolPerPop). Została ona podziela na 4 poziomy. "
   ]
  },
  {
   "cell_type": "code",
   "execution_count": 7,
   "id": "df5c86e1",
   "metadata": {},
   "outputs": [],
   "source": [
    "crime2 = crime[['PctUnemployed', 'PctLess9thGrade', 'PctPopUnderPov', 'pctWPubAsst', 'medIncome', 'agePct12t29',\n",
    "               'numbUrban', 'TotalPctDiv', 'nonViolPerPop']]  "
   ]
  },
  {
   "cell_type": "markdown",
   "id": "c4feff6e",
   "metadata": {},
   "source": [
    "## Wstępne przygotowanie zmiennych\n",
    "\n",
    " - usunięcie braków danych \n",
    " - transformacja typów danych"
   ]
  },
  {
   "cell_type": "code",
   "execution_count": 8,
   "id": "74d6fbba",
   "metadata": {},
   "outputs": [
    {
     "name": "stderr",
     "output_type": "stream",
     "text": [
      "/var/folders/c5/p24qxq1s42bc6lvvl88m7mnr0000gn/T/ipykernel_1246/2878134802.py:1: SettingWithCopyWarning: \n",
      "A value is trying to be set on a copy of a slice from a DataFrame\n",
      "\n",
      "See the caveats in the documentation: https://pandas.pydata.org/pandas-docs/stable/user_guide/indexing.html#returning-a-view-versus-a-copy\n",
      "  crime2.replace('?', pd.NA, inplace = True)\n"
     ]
    }
   ],
   "source": [
    "crime2.replace('?', pd.NA, inplace = True)"
   ]
  },
  {
   "cell_type": "code",
   "execution_count": 9,
   "id": "ccda869a",
   "metadata": {},
   "outputs": [
    {
     "data": {
      "text/plain": [
       "PctUnemployed       0\n",
       "PctLess9thGrade     0\n",
       "PctPopUnderPov      0\n",
       "pctWPubAsst         0\n",
       "medIncome           0\n",
       "agePct12t29         0\n",
       "numbUrban           0\n",
       "TotalPctDiv         0\n",
       "nonViolPerPop      97\n",
       "dtype: int64"
      ]
     },
     "execution_count": 9,
     "metadata": {},
     "output_type": "execute_result"
    }
   ],
   "source": [
    "braki = crime2.isnull().sum()\n",
    "braki.head(9)"
   ]
  },
  {
   "cell_type": "code",
   "execution_count": 10,
   "id": "31b03726",
   "metadata": {},
   "outputs": [
    {
     "data": {
      "text/plain": [
       "PctUnemployed      0\n",
       "PctLess9thGrade    0\n",
       "PctPopUnderPov     0\n",
       "pctWPubAsst        0\n",
       "medIncome          0\n",
       "agePct12t29        0\n",
       "numbUrban          0\n",
       "TotalPctDiv        0\n",
       "nonViolPerPop      0\n",
       "dtype: int64"
      ]
     },
     "execution_count": 10,
     "metadata": {},
     "output_type": "execute_result"
    }
   ],
   "source": [
    "crime2 = crime2.dropna(subset = ['nonViolPerPop'])\n",
    "crime2.isnull().sum()"
   ]
  },
  {
   "cell_type": "code",
   "execution_count": 11,
   "id": "cb9c6c02",
   "metadata": {},
   "outputs": [
    {
     "name": "stdout",
     "output_type": "stream",
     "text": [
      "<class 'pandas.core.frame.DataFrame'>\n",
      "Int64Index: 2118 entries, 0 to 2214\n",
      "Data columns (total 9 columns):\n",
      " #   Column           Non-Null Count  Dtype  \n",
      "---  ------           --------------  -----  \n",
      " 0   PctUnemployed    2118 non-null   float64\n",
      " 1   PctLess9thGrade  2118 non-null   float64\n",
      " 2   PctPopUnderPov   2118 non-null   float64\n",
      " 3   pctWPubAsst      2118 non-null   float64\n",
      " 4   medIncome        2118 non-null   int64  \n",
      " 5   agePct12t29      2118 non-null   float64\n",
      " 6   numbUrban        2118 non-null   int64  \n",
      " 7   TotalPctDiv      2118 non-null   float64\n",
      " 8   nonViolPerPop    2118 non-null   object \n",
      "dtypes: float64(6), int64(2), object(1)\n",
      "memory usage: 165.5+ KB\n"
     ]
    }
   ],
   "source": [
    "crime2.info()"
   ]
  },
  {
   "cell_type": "code",
   "execution_count": 12,
   "id": "f8be8993",
   "metadata": {},
   "outputs": [
    {
     "name": "stderr",
     "output_type": "stream",
     "text": [
      "/var/folders/c5/p24qxq1s42bc6lvvl88m7mnr0000gn/T/ipykernel_1246/2698881101.py:1: SettingWithCopyWarning: \n",
      "A value is trying to be set on a copy of a slice from a DataFrame.\n",
      "Try using .loc[row_indexer,col_indexer] = value instead\n",
      "\n",
      "See the caveats in the documentation: https://pandas.pydata.org/pandas-docs/stable/user_guide/indexing.html#returning-a-view-versus-a-copy\n",
      "  crime2['nonViolPerPop'] = crime2['nonViolPerPop'].replace('[^\\d.]', '', regex = True).astype(float)\n"
     ]
    }
   ],
   "source": [
    "crime2['nonViolPerPop'] = crime2['nonViolPerPop'].replace('[^\\d.]', '', regex = True).astype(float)"
   ]
  },
  {
   "cell_type": "code",
   "execution_count": 13,
   "id": "e93452ba",
   "metadata": {},
   "outputs": [
    {
     "data": {
      "text/html": [
       "<div>\n",
       "<style scoped>\n",
       "    .dataframe tbody tr th:only-of-type {\n",
       "        vertical-align: middle;\n",
       "    }\n",
       "\n",
       "    .dataframe tbody tr th {\n",
       "        vertical-align: top;\n",
       "    }\n",
       "\n",
       "    .dataframe thead th {\n",
       "        text-align: right;\n",
       "    }\n",
       "</style>\n",
       "<table border=\"1\" class=\"dataframe\">\n",
       "  <thead>\n",
       "    <tr style=\"text-align: right;\">\n",
       "      <th></th>\n",
       "      <th>PctUnemployed</th>\n",
       "      <th>PctLess9thGrade</th>\n",
       "      <th>PctPopUnderPov</th>\n",
       "      <th>pctWPubAsst</th>\n",
       "      <th>medIncome</th>\n",
       "      <th>agePct12t29</th>\n",
       "      <th>numbUrban</th>\n",
       "      <th>TotalPctDiv</th>\n",
       "      <th>nonViolPerPop</th>\n",
       "    </tr>\n",
       "  </thead>\n",
       "  <tbody>\n",
       "    <tr>\n",
       "      <th>count</th>\n",
       "      <td>2118.000000</td>\n",
       "      <td>2118.000000</td>\n",
       "      <td>2118.000000</td>\n",
       "      <td>2118.000000</td>\n",
       "      <td>2118.000000</td>\n",
       "      <td>2118.000000</td>\n",
       "      <td>2.118000e+03</td>\n",
       "      <td>2118.000000</td>\n",
       "      <td>2118.000000</td>\n",
       "    </tr>\n",
       "    <tr>\n",
       "      <th>mean</th>\n",
       "      <td>6.036907</td>\n",
       "      <td>9.165033</td>\n",
       "      <td>11.506256</td>\n",
       "      <td>6.758107</td>\n",
       "      <td>34217.611426</td>\n",
       "      <td>27.629528</td>\n",
       "      <td>4.789850e+04</td>\n",
       "      <td>10.805288</td>\n",
       "      <td>4908.241804</td>\n",
       "    </tr>\n",
       "    <tr>\n",
       "      <th>std</th>\n",
       "      <td>2.889797</td>\n",
       "      <td>6.705145</td>\n",
       "      <td>8.577574</td>\n",
       "      <td>4.702353</td>\n",
       "      <td>13525.367016</td>\n",
       "      <td>6.192881</td>\n",
       "      <td>2.093691e+05</td>\n",
       "      <td>3.027045</td>\n",
       "      <td>2739.708901</td>\n",
       "    </tr>\n",
       "    <tr>\n",
       "      <th>min</th>\n",
       "      <td>1.320000</td>\n",
       "      <td>0.200000</td>\n",
       "      <td>0.640000</td>\n",
       "      <td>0.180000</td>\n",
       "      <td>8866.000000</td>\n",
       "      <td>9.380000</td>\n",
       "      <td>0.000000e+00</td>\n",
       "      <td>2.830000</td>\n",
       "      <td>116.790000</td>\n",
       "    </tr>\n",
       "    <tr>\n",
       "      <th>25%</th>\n",
       "      <td>4.042500</td>\n",
       "      <td>4.570000</td>\n",
       "      <td>4.452500</td>\n",
       "      <td>3.270000</td>\n",
       "      <td>23898.500000</td>\n",
       "      <td>24.392500</td>\n",
       "      <td>0.000000e+00</td>\n",
       "      <td>8.530000</td>\n",
       "      <td>2918.070000</td>\n",
       "    </tr>\n",
       "    <tr>\n",
       "      <th>50%</th>\n",
       "      <td>5.430000</td>\n",
       "      <td>7.695000</td>\n",
       "      <td>9.145000</td>\n",
       "      <td>5.550000</td>\n",
       "      <td>31700.000000</td>\n",
       "      <td>26.780000</td>\n",
       "      <td>1.795500e+04</td>\n",
       "      <td>10.880000</td>\n",
       "      <td>4425.450000</td>\n",
       "    </tr>\n",
       "    <tr>\n",
       "      <th>75%</th>\n",
       "      <td>7.430000</td>\n",
       "      <td>11.780000</td>\n",
       "      <td>16.820000</td>\n",
       "      <td>9.067500</td>\n",
       "      <td>41790.750000</td>\n",
       "      <td>29.210000</td>\n",
       "      <td>4.185000e+04</td>\n",
       "      <td>13.000000</td>\n",
       "      <td>6229.280000</td>\n",
       "    </tr>\n",
       "    <tr>\n",
       "      <th>max</th>\n",
       "      <td>31.230000</td>\n",
       "      <td>49.890000</td>\n",
       "      <td>58.000000</td>\n",
       "      <td>44.820000</td>\n",
       "      <td>123625.000000</td>\n",
       "      <td>70.510000</td>\n",
       "      <td>7.322564e+06</td>\n",
       "      <td>22.230000</td>\n",
       "      <td>27119.760000</td>\n",
       "    </tr>\n",
       "  </tbody>\n",
       "</table>\n",
       "</div>"
      ],
      "text/plain": [
       "       PctUnemployed  PctLess9thGrade  PctPopUnderPov  pctWPubAsst  \\\n",
       "count    2118.000000      2118.000000     2118.000000  2118.000000   \n",
       "mean        6.036907         9.165033       11.506256     6.758107   \n",
       "std         2.889797         6.705145        8.577574     4.702353   \n",
       "min         1.320000         0.200000        0.640000     0.180000   \n",
       "25%         4.042500         4.570000        4.452500     3.270000   \n",
       "50%         5.430000         7.695000        9.145000     5.550000   \n",
       "75%         7.430000        11.780000       16.820000     9.067500   \n",
       "max        31.230000        49.890000       58.000000    44.820000   \n",
       "\n",
       "           medIncome  agePct12t29     numbUrban  TotalPctDiv  nonViolPerPop  \n",
       "count    2118.000000  2118.000000  2.118000e+03  2118.000000    2118.000000  \n",
       "mean    34217.611426    27.629528  4.789850e+04    10.805288    4908.241804  \n",
       "std     13525.367016     6.192881  2.093691e+05     3.027045    2739.708901  \n",
       "min      8866.000000     9.380000  0.000000e+00     2.830000     116.790000  \n",
       "25%     23898.500000    24.392500  0.000000e+00     8.530000    2918.070000  \n",
       "50%     31700.000000    26.780000  1.795500e+04    10.880000    4425.450000  \n",
       "75%     41790.750000    29.210000  4.185000e+04    13.000000    6229.280000  \n",
       "max    123625.000000    70.510000  7.322564e+06    22.230000   27119.760000  "
      ]
     },
     "execution_count": 13,
     "metadata": {},
     "output_type": "execute_result"
    }
   ],
   "source": [
    "crime2.describe()"
   ]
  },
  {
   "cell_type": "markdown",
   "id": "412a53d7",
   "metadata": {},
   "source": [
    "Powyzsza tabela pokazuje podsumowanie wszystkich atrybutow numerycznych. Dla lepszego zrozumienia danych wygenerujamy jeszcze histogramy dla wszystkich zmiennych."
   ]
  },
  {
   "cell_type": "code",
   "execution_count": 14,
   "id": "dca63708",
   "metadata": {},
   "outputs": [
    {
     "data": {
      "image/png": "[encoded data removed]",
      "text/plain": [
       "<Figure size 864x576 with 9 Axes>"
      ]
     },
     "metadata": {
      "needs_background": "light"
     },
     "output_type": "display_data"
    }
   ],
   "source": [
    "crime2.hist(bins = 50, figsize = (12,8))\n",
    "plt.show()"
   ]
  },
  {
   "cell_type": "markdown",
   "id": "684d294f",
   "metadata": {},
   "source": [
    "Widzimy, ze:\n",
    "- zmienne maja rozne skale, nieraz znacznie zrownicowane (procenty itp.) \n",
    "- zmienna numbUrban wymaga dokladniejszej analizy\n",
    "- wiele histogramow cechuja sie prawoskosnoscia, czyli rozciagaja sie one bardziej po prawej strony niz po lewej.    Moze to utrudniac niektorym algorytmom rozpoznawanie wzorcow. \n",
    "\n",
    "Ze wstepnej analizy danych wynika, ze zmienne wymagaja skalowania oraz ze zmienna numbUrban wymaga zbadania."
   ]
  },
  {
   "cell_type": "code",
   "execution_count": 15,
   "id": "14972cf1",
   "metadata": {},
   "outputs": [
    {
     "data": {
      "text/plain": [
       "<AxesSubplot:xlabel='numbUrban'>"
      ]
     },
     "execution_count": 15,
     "metadata": {},
     "output_type": "execute_result"
    },
    {
     "data": {
      "image/png": "[encoded data removed]",
      "text/plain": [
       "<Figure size 1008x504 with 1 Axes>"
      ]
     },
     "metadata": {
      "needs_background": "light"
     },
     "output_type": "display_data"
    }
   ],
   "source": [
    "plt.figure(figsize=(14,7))\n",
    "sns.boxplot(x = 'numbUrban', data = crime2)"
   ]
  },
  {
   "cell_type": "code",
   "execution_count": 16,
   "id": "b791bc74",
   "metadata": {},
   "outputs": [
    {
     "data": {
      "text/html": [
       "<div>\n",
       "<style scoped>\n",
       "    .dataframe tbody tr th:only-of-type {\n",
       "        vertical-align: middle;\n",
       "    }\n",
       "\n",
       "    .dataframe tbody tr th {\n",
       "        vertical-align: top;\n",
       "    }\n",
       "\n",
       "    .dataframe thead th {\n",
       "        text-align: right;\n",
       "    }\n",
       "</style>\n",
       "<table border=\"1\" class=\"dataframe\">\n",
       "  <thead>\n",
       "    <tr style=\"text-align: right;\">\n",
       "      <th></th>\n",
       "      <th>communityname</th>\n",
       "      <th>state</th>\n",
       "      <th>countyCode</th>\n",
       "      <th>communityCode</th>\n",
       "      <th>fold</th>\n",
       "      <th>population</th>\n",
       "      <th>householdsize</th>\n",
       "      <th>racepctblack</th>\n",
       "      <th>racePctWhite</th>\n",
       "      <th>racePctAsian</th>\n",
       "      <th>...</th>\n",
       "      <th>burglaries</th>\n",
       "      <th>burglPerPop</th>\n",
       "      <th>larcenies</th>\n",
       "      <th>larcPerPop</th>\n",
       "      <th>autoTheft</th>\n",
       "      <th>autoTheftPerPop</th>\n",
       "      <th>arsons</th>\n",
       "      <th>arsonsPerPop</th>\n",
       "      <th>ViolentCrimesPerPop</th>\n",
       "      <th>nonViolPerPop</th>\n",
       "    </tr>\n",
       "  </thead>\n",
       "  <tbody>\n",
       "    <tr>\n",
       "      <th>21</th>\n",
       "      <td>NewYorkcity</td>\n",
       "      <td>NY</td>\n",
       "      <td>?</td>\n",
       "      <td>?</td>\n",
       "      <td>1</td>\n",
       "      <td>7322564</td>\n",
       "      <td>2.60</td>\n",
       "      <td>28.71</td>\n",
       "      <td>52.26</td>\n",
       "      <td>7.00</td>\n",
       "      <td>...</td>\n",
       "      <td>99207</td>\n",
       "      <td>1355.37</td>\n",
       "      <td>235132</td>\n",
       "      <td>3212.39</td>\n",
       "      <td>112464</td>\n",
       "      <td>1536.49</td>\n",
       "      <td>4443</td>\n",
       "      <td>60.7</td>\n",
       "      <td>2097.71</td>\n",
       "      <td>6164.95</td>\n",
       "    </tr>\n",
       "    <tr>\n",
       "      <th>127</th>\n",
       "      <td>LosAngelescity</td>\n",
       "      <td>CA</td>\n",
       "      <td>?</td>\n",
       "      <td>?</td>\n",
       "      <td>1</td>\n",
       "      <td>3485398</td>\n",
       "      <td>2.86</td>\n",
       "      <td>13.99</td>\n",
       "      <td>52.83</td>\n",
       "      <td>9.81</td>\n",
       "      <td>...</td>\n",
       "      <td>50232</td>\n",
       "      <td>1449.19</td>\n",
       "      <td>119092</td>\n",
       "      <td>3435.8</td>\n",
       "      <td>59764</td>\n",
       "      <td>1724.19</td>\n",
       "      <td>5119</td>\n",
       "      <td>147.68</td>\n",
       "      <td>2414.77</td>\n",
       "      <td>6756.86</td>\n",
       "    </tr>\n",
       "    <tr>\n",
       "      <th>1434</th>\n",
       "      <td>Chicagocity</td>\n",
       "      <td>IL</td>\n",
       "      <td>31</td>\n",
       "      <td>14000</td>\n",
       "      <td>7</td>\n",
       "      <td>2783726</td>\n",
       "      <td>2.72</td>\n",
       "      <td>39.07</td>\n",
       "      <td>45.39</td>\n",
       "      <td>3.74</td>\n",
       "      <td>...</td>\n",
       "      <td>45670</td>\n",
       "      <td>1660.84</td>\n",
       "      <td>121314</td>\n",
       "      <td>4411.72</td>\n",
       "      <td>40438</td>\n",
       "      <td>1470.57</td>\n",
       "      <td>1676</td>\n",
       "      <td>60.95</td>\n",
       "      <td>?</td>\n",
       "      <td>7604.09</td>\n",
       "    </tr>\n",
       "    <tr>\n",
       "      <th>818</th>\n",
       "      <td>Houstoncity</td>\n",
       "      <td>TX</td>\n",
       "      <td>?</td>\n",
       "      <td>?</td>\n",
       "      <td>4</td>\n",
       "      <td>1630553</td>\n",
       "      <td>2.64</td>\n",
       "      <td>28.09</td>\n",
       "      <td>52.69</td>\n",
       "      <td>4.12</td>\n",
       "      <td>...</td>\n",
       "      <td>27022</td>\n",
       "      <td>1558.06</td>\n",
       "      <td>61569</td>\n",
       "      <td>3550.01</td>\n",
       "      <td>27519</td>\n",
       "      <td>1586.72</td>\n",
       "      <td>1549</td>\n",
       "      <td>89.31</td>\n",
       "      <td>?</td>\n",
       "      <td>6784.1</td>\n",
       "    </tr>\n",
       "    <tr>\n",
       "      <th>55</th>\n",
       "      <td>Philadelphiacity</td>\n",
       "      <td>PA</td>\n",
       "      <td>101</td>\n",
       "      <td>60000</td>\n",
       "      <td>1</td>\n",
       "      <td>1585577</td>\n",
       "      <td>2.63</td>\n",
       "      <td>39.86</td>\n",
       "      <td>53.52</td>\n",
       "      <td>2.74</td>\n",
       "      <td>...</td>\n",
       "      <td>15117</td>\n",
       "      <td>988.14</td>\n",
       "      <td>39181</td>\n",
       "      <td>2561.1</td>\n",
       "      <td>23785</td>\n",
       "      <td>1554.73</td>\n",
       "      <td>2282</td>\n",
       "      <td>149.17</td>\n",
       "      <td>1279.6</td>\n",
       "      <td>5253.14</td>\n",
       "    </tr>\n",
       "    <tr>\n",
       "      <th>...</th>\n",
       "      <td>...</td>\n",
       "      <td>...</td>\n",
       "      <td>...</td>\n",
       "      <td>...</td>\n",
       "      <td>...</td>\n",
       "      <td>...</td>\n",
       "      <td>...</td>\n",
       "      <td>...</td>\n",
       "      <td>...</td>\n",
       "      <td>...</td>\n",
       "      <td>...</td>\n",
       "      <td>...</td>\n",
       "      <td>...</td>\n",
       "      <td>...</td>\n",
       "      <td>...</td>\n",
       "      <td>...</td>\n",
       "      <td>...</td>\n",
       "      <td>...</td>\n",
       "      <td>...</td>\n",
       "      <td>...</td>\n",
       "      <td>...</td>\n",
       "    </tr>\n",
       "    <tr>\n",
       "      <th>858</th>\n",
       "      <td>McMinnvillecity</td>\n",
       "      <td>TN</td>\n",
       "      <td>?</td>\n",
       "      <td>?</td>\n",
       "      <td>4</td>\n",
       "      <td>11194</td>\n",
       "      <td>2.36</td>\n",
       "      <td>4.96</td>\n",
       "      <td>93.83</td>\n",
       "      <td>0.65</td>\n",
       "      <td>...</td>\n",
       "      <td>195</td>\n",
       "      <td>1586.91</td>\n",
       "      <td>472</td>\n",
       "      <td>3841.15</td>\n",
       "      <td>102</td>\n",
       "      <td>830.08</td>\n",
       "      <td>9</td>\n",
       "      <td>73.24</td>\n",
       "      <td>1000.98</td>\n",
       "      <td>6331.38</td>\n",
       "    </tr>\n",
       "    <tr>\n",
       "      <th>857</th>\n",
       "      <td>CapeGirardeaucity</td>\n",
       "      <td>MO</td>\n",
       "      <td>?</td>\n",
       "      <td>?</td>\n",
       "      <td>4</td>\n",
       "      <td>34438</td>\n",
       "      <td>2.56</td>\n",
       "      <td>8.05</td>\n",
       "      <td>90.21</td>\n",
       "      <td>1.29</td>\n",
       "      <td>...</td>\n",
       "      <td>266</td>\n",
       "      <td>733.81</td>\n",
       "      <td>1757</td>\n",
       "      <td>4847.03</td>\n",
       "      <td>111</td>\n",
       "      <td>306.22</td>\n",
       "      <td>2</td>\n",
       "      <td>5.52</td>\n",
       "      <td>331.04</td>\n",
       "      <td>5892.58</td>\n",
       "    </tr>\n",
       "    <tr>\n",
       "      <th>1720</th>\n",
       "      <td>Conroecity</td>\n",
       "      <td>TX</td>\n",
       "      <td>?</td>\n",
       "      <td>?</td>\n",
       "      <td>8</td>\n",
       "      <td>27610</td>\n",
       "      <td>2.76</td>\n",
       "      <td>13.40</td>\n",
       "      <td>74.46</td>\n",
       "      <td>0.91</td>\n",
       "      <td>...</td>\n",
       "      <td>378</td>\n",
       "      <td>1201.11</td>\n",
       "      <td>1799</td>\n",
       "      <td>5716.37</td>\n",
       "      <td>266</td>\n",
       "      <td>845.22</td>\n",
       "      <td>5</td>\n",
       "      <td>15.89</td>\n",
       "      <td>1404.47</td>\n",
       "      <td>7778.59</td>\n",
       "    </tr>\n",
       "    <tr>\n",
       "      <th>856</th>\n",
       "      <td>LakeCitycity</td>\n",
       "      <td>FL</td>\n",
       "      <td>?</td>\n",
       "      <td>?</td>\n",
       "      <td>4</td>\n",
       "      <td>10005</td>\n",
       "      <td>2.56</td>\n",
       "      <td>38.46</td>\n",
       "      <td>60.07</td>\n",
       "      <td>0.84</td>\n",
       "      <td>...</td>\n",
       "      <td>275</td>\n",
       "      <td>2698.99</td>\n",
       "      <td>993</td>\n",
       "      <td>9745.8</td>\n",
       "      <td>56</td>\n",
       "      <td>549.61</td>\n",
       "      <td>3</td>\n",
       "      <td>29.44</td>\n",
       "      <td>2119.93</td>\n",
       "      <td>13023.85</td>\n",
       "    </tr>\n",
       "    <tr>\n",
       "      <th>1107</th>\n",
       "      <td>FergusFallscity</td>\n",
       "      <td>MN</td>\n",
       "      <td>111</td>\n",
       "      <td>20906</td>\n",
       "      <td>5</td>\n",
       "      <td>12362</td>\n",
       "      <td>2.43</td>\n",
       "      <td>0.11</td>\n",
       "      <td>98.58</td>\n",
       "      <td>0.59</td>\n",
       "      <td>...</td>\n",
       "      <td>90</td>\n",
       "      <td>714.12</td>\n",
       "      <td>423</td>\n",
       "      <td>3356.34</td>\n",
       "      <td>12</td>\n",
       "      <td>95.22</td>\n",
       "      <td>2</td>\n",
       "      <td>15.87</td>\n",
       "      <td>?</td>\n",
       "      <td>4181.54</td>\n",
       "    </tr>\n",
       "  </tbody>\n",
       "</table>\n",
       "<p>2215 rows × 147 columns</p>\n",
       "</div>"
      ],
      "text/plain": [
       "          communityname state countyCode communityCode  fold  population  \\\n",
       "21          NewYorkcity    NY          ?             ?     1     7322564   \n",
       "127      LosAngelescity    CA          ?             ?     1     3485398   \n",
       "1434        Chicagocity    IL         31         14000     7     2783726   \n",
       "818         Houstoncity    TX          ?             ?     4     1630553   \n",
       "55     Philadelphiacity    PA        101         60000     1     1585577   \n",
       "...                 ...   ...        ...           ...   ...         ...   \n",
       "858     McMinnvillecity    TN          ?             ?     4       11194   \n",
       "857   CapeGirardeaucity    MO          ?             ?     4       34438   \n",
       "1720         Conroecity    TX          ?             ?     8       27610   \n",
       "856        LakeCitycity    FL          ?             ?     4       10005   \n",
       "1107    FergusFallscity    MN        111         20906     5       12362   \n",
       "\n",
       "      householdsize  racepctblack  racePctWhite  racePctAsian  ...  \\\n",
       "21             2.60         28.71         52.26          7.00  ...   \n",
       "127            2.86         13.99         52.83          9.81  ...   \n",
       "1434           2.72         39.07         45.39          3.74  ...   \n",
       "818            2.64         28.09         52.69          4.12  ...   \n",
       "55             2.63         39.86         53.52          2.74  ...   \n",
       "...             ...           ...           ...           ...  ...   \n",
       "858            2.36          4.96         93.83          0.65  ...   \n",
       "857            2.56          8.05         90.21          1.29  ...   \n",
       "1720           2.76         13.40         74.46          0.91  ...   \n",
       "856            2.56         38.46         60.07          0.84  ...   \n",
       "1107           2.43          0.11         98.58          0.59  ...   \n",
       "\n",
       "      burglaries  burglPerPop  larcenies  larcPerPop  autoTheft  \\\n",
       "21         99207      1355.37     235132     3212.39     112464   \n",
       "127        50232      1449.19     119092      3435.8      59764   \n",
       "1434       45670      1660.84     121314     4411.72      40438   \n",
       "818        27022      1558.06      61569     3550.01      27519   \n",
       "55         15117       988.14      39181      2561.1      23785   \n",
       "...          ...          ...        ...         ...        ...   \n",
       "858          195      1586.91        472     3841.15        102   \n",
       "857          266       733.81       1757     4847.03        111   \n",
       "1720         378      1201.11       1799     5716.37        266   \n",
       "856          275      2698.99        993      9745.8         56   \n",
       "1107          90       714.12        423     3356.34         12   \n",
       "\n",
       "      autoTheftPerPop  arsons  arsonsPerPop  ViolentCrimesPerPop  \\\n",
       "21            1536.49    4443          60.7              2097.71   \n",
       "127           1724.19    5119        147.68              2414.77   \n",
       "1434          1470.57    1676         60.95                    ?   \n",
       "818           1586.72    1549         89.31                    ?   \n",
       "55            1554.73    2282        149.17               1279.6   \n",
       "...               ...     ...           ...                  ...   \n",
       "858            830.08       9         73.24              1000.98   \n",
       "857            306.22       2          5.52               331.04   \n",
       "1720           845.22       5         15.89              1404.47   \n",
       "856            549.61       3         29.44              2119.93   \n",
       "1107            95.22       2         15.87                    ?   \n",
       "\n",
       "      nonViolPerPop  \n",
       "21          6164.95  \n",
       "127         6756.86  \n",
       "1434        7604.09  \n",
       "818          6784.1  \n",
       "55          5253.14  \n",
       "...             ...  \n",
       "858         6331.38  \n",
       "857         5892.58  \n",
       "1720        7778.59  \n",
       "856        13023.85  \n",
       "1107        4181.54  \n",
       "\n",
       "[2215 rows x 147 columns]"
      ]
     },
     "execution_count": 16,
     "metadata": {},
     "output_type": "execute_result"
    }
   ],
   "source": [
    "crime.sort_values(by='numbUrban', ascending = False)"
   ]
  },
  {
   "cell_type": "code",
   "execution_count": 17,
   "id": "5bdfa26b",
   "metadata": {},
   "outputs": [
    {
     "data": {
      "text/html": [
       "<div>\n",
       "<style scoped>\n",
       "    .dataframe tbody tr th:only-of-type {\n",
       "        vertical-align: middle;\n",
       "    }\n",
       "\n",
       "    .dataframe tbody tr th {\n",
       "        vertical-align: top;\n",
       "    }\n",
       "\n",
       "    .dataframe thead th {\n",
       "        text-align: right;\n",
       "    }\n",
       "</style>\n",
       "<table border=\"1\" class=\"dataframe\">\n",
       "  <thead>\n",
       "    <tr style=\"text-align: right;\">\n",
       "      <th></th>\n",
       "      <th>PctUnemployed</th>\n",
       "      <th>PctLess9thGrade</th>\n",
       "      <th>PctPopUnderPov</th>\n",
       "      <th>pctWPubAsst</th>\n",
       "      <th>medIncome</th>\n",
       "      <th>agePct12t29</th>\n",
       "      <th>numbUrban</th>\n",
       "      <th>TotalPctDiv</th>\n",
       "      <th>nonViolPerPop</th>\n",
       "    </tr>\n",
       "  </thead>\n",
       "  <tbody>\n",
       "    <tr>\n",
       "      <th>21</th>\n",
       "      <td>8.98</td>\n",
       "      <td>14.10</td>\n",
       "      <td>19.29</td>\n",
       "      <td>13.12</td>\n",
       "      <td>29823</td>\n",
       "      <td>27.46</td>\n",
       "      <td>7322564</td>\n",
       "      <td>11.77</td>\n",
       "      <td>6164.95</td>\n",
       "    </tr>\n",
       "    <tr>\n",
       "      <th>127</th>\n",
       "      <td>8.34</td>\n",
       "      <td>18.40</td>\n",
       "      <td>18.86</td>\n",
       "      <td>10.68</td>\n",
       "      <td>30925</td>\n",
       "      <td>31.22</td>\n",
       "      <td>3485398</td>\n",
       "      <td>12.26</td>\n",
       "      <td>6756.86</td>\n",
       "    </tr>\n",
       "    <tr>\n",
       "      <th>1434</th>\n",
       "      <td>11.32</td>\n",
       "      <td>15.27</td>\n",
       "      <td>21.62</td>\n",
       "      <td>14.36</td>\n",
       "      <td>26301</td>\n",
       "      <td>29.66</td>\n",
       "      <td>2783726</td>\n",
       "      <td>12.99</td>\n",
       "      <td>7604.09</td>\n",
       "    </tr>\n",
       "    <tr>\n",
       "      <th>818</th>\n",
       "      <td>8.18</td>\n",
       "      <td>14.21</td>\n",
       "      <td>20.74</td>\n",
       "      <td>7.06</td>\n",
       "      <td>26261</td>\n",
       "      <td>30.53</td>\n",
       "      <td>1630672</td>\n",
       "      <td>15.07</td>\n",
       "      <td>6784.10</td>\n",
       "    </tr>\n",
       "    <tr>\n",
       "      <th>55</th>\n",
       "      <td>9.62</td>\n",
       "      <td>11.29</td>\n",
       "      <td>20.27</td>\n",
       "      <td>13.98</td>\n",
       "      <td>24603</td>\n",
       "      <td>28.02</td>\n",
       "      <td>1585577</td>\n",
       "      <td>12.53</td>\n",
       "      <td>5253.14</td>\n",
       "    </tr>\n",
       "    <tr>\n",
       "      <th>...</th>\n",
       "      <td>...</td>\n",
       "      <td>...</td>\n",
       "      <td>...</td>\n",
       "      <td>...</td>\n",
       "      <td>...</td>\n",
       "      <td>...</td>\n",
       "      <td>...</td>\n",
       "      <td>...</td>\n",
       "      <td>...</td>\n",
       "    </tr>\n",
       "    <tr>\n",
       "      <th>856</th>\n",
       "      <td>8.15</td>\n",
       "      <td>13.46</td>\n",
       "      <td>24.78</td>\n",
       "      <td>14.08</td>\n",
       "      <td>18619</td>\n",
       "      <td>24.50</td>\n",
       "      <td>0</td>\n",
       "      <td>16.38</td>\n",
       "      <td>13023.85</td>\n",
       "    </tr>\n",
       "    <tr>\n",
       "      <th>855</th>\n",
       "      <td>5.75</td>\n",
       "      <td>10.60</td>\n",
       "      <td>17.05</td>\n",
       "      <td>6.77</td>\n",
       "      <td>24712</td>\n",
       "      <td>34.11</td>\n",
       "      <td>0</td>\n",
       "      <td>15.16</td>\n",
       "      <td>11255.20</td>\n",
       "    </tr>\n",
       "    <tr>\n",
       "      <th>1727</th>\n",
       "      <td>3.94</td>\n",
       "      <td>15.87</td>\n",
       "      <td>11.72</td>\n",
       "      <td>7.67</td>\n",
       "      <td>22146</td>\n",
       "      <td>25.06</td>\n",
       "      <td>0</td>\n",
       "      <td>9.93</td>\n",
       "      <td>2617.09</td>\n",
       "    </tr>\n",
       "    <tr>\n",
       "      <th>852</th>\n",
       "      <td>4.31</td>\n",
       "      <td>11.71</td>\n",
       "      <td>15.58</td>\n",
       "      <td>9.11</td>\n",
       "      <td>24081</td>\n",
       "      <td>25.94</td>\n",
       "      <td>0</td>\n",
       "      <td>12.48</td>\n",
       "      <td>9154.85</td>\n",
       "    </tr>\n",
       "    <tr>\n",
       "      <th>1107</th>\n",
       "      <td>4.36</td>\n",
       "      <td>15.26</td>\n",
       "      <td>14.86</td>\n",
       "      <td>7.46</td>\n",
       "      <td>22993</td>\n",
       "      <td>23.10</td>\n",
       "      <td>0</td>\n",
       "      <td>9.06</td>\n",
       "      <td>4181.54</td>\n",
       "    </tr>\n",
       "  </tbody>\n",
       "</table>\n",
       "<p>2118 rows × 9 columns</p>\n",
       "</div>"
      ],
      "text/plain": [
       "      PctUnemployed  PctLess9thGrade  PctPopUnderPov  pctWPubAsst  medIncome  \\\n",
       "21             8.98            14.10           19.29        13.12      29823   \n",
       "127            8.34            18.40           18.86        10.68      30925   \n",
       "1434          11.32            15.27           21.62        14.36      26301   \n",
       "818            8.18            14.21           20.74         7.06      26261   \n",
       "55             9.62            11.29           20.27        13.98      24603   \n",
       "...             ...              ...             ...          ...        ...   \n",
       "856            8.15            13.46           24.78        14.08      18619   \n",
       "855            5.75            10.60           17.05         6.77      24712   \n",
       "1727           3.94            15.87           11.72         7.67      22146   \n",
       "852            4.31            11.71           15.58         9.11      24081   \n",
       "1107           4.36            15.26           14.86         7.46      22993   \n",
       "\n",
       "      agePct12t29  numbUrban  TotalPctDiv  nonViolPerPop  \n",
       "21          27.46    7322564        11.77        6164.95  \n",
       "127         31.22    3485398        12.26        6756.86  \n",
       "1434        29.66    2783726        12.99        7604.09  \n",
       "818         30.53    1630672        15.07        6784.10  \n",
       "55          28.02    1585577        12.53        5253.14  \n",
       "...           ...        ...          ...            ...  \n",
       "856         24.50          0        16.38       13023.85  \n",
       "855         34.11          0        15.16       11255.20  \n",
       "1727        25.06          0         9.93        2617.09  \n",
       "852         25.94          0        12.48        9154.85  \n",
       "1107        23.10          0         9.06        4181.54  \n",
       "\n",
       "[2118 rows x 9 columns]"
      ]
     },
     "execution_count": 17,
     "metadata": {},
     "output_type": "execute_result"
    }
   ],
   "source": [
    "crime2.sort_values(by='numbUrban', ascending = False)"
   ]
  },
  {
   "cell_type": "markdown",
   "id": "93916967",
   "metadata": {},
   "source": [
    "Zmienna NumbUrban ma duzo wartosci odstajacych ale sa to poprawne wartosci wynikajace z duzej liczebnosci wielkich miast w USA."
   ]
  },
  {
   "cell_type": "code",
   "execution_count": 18,
   "id": "b4cc55ca",
   "metadata": {},
   "outputs": [
    {
     "data": {
      "text/plain": [
       "nonViolPerPop      1.000000\n",
       "TotalPctDiv        0.605817\n",
       "PctPopUnderPov     0.518953\n",
       "pctWPubAsst        0.474557\n",
       "PctUnemployed      0.408442\n",
       "PctLess9thGrade    0.303679\n",
       "numbUrban          0.121541\n",
       "agePct12t29        0.112603\n",
       "medIncome         -0.473101\n",
       "Name: nonViolPerPop, dtype: float64"
      ]
     },
     "execution_count": 18,
     "metadata": {},
     "output_type": "execute_result"
    }
   ],
   "source": [
    "corr_matrix = crime2.corr()\n",
    "corr_matrix[\"nonViolPerPop\"].sort_values(ascending = False)"
   ]
  },
  {
   "cell_type": "code",
   "execution_count": 19,
   "id": "c0a8b3b2",
   "metadata": {},
   "outputs": [
    {
     "data": {
      "text/plain": [
       "<AxesSubplot:>"
      ]
     },
     "execution_count": 19,
     "metadata": {},
     "output_type": "execute_result"
    },
    {
     "data": {
      "image/png": "[encoded data removed]",
      "text/plain": [
       "<Figure size 432x288 with 1 Axes>"
      ]
     },
     "metadata": {
      "needs_background": "light"
     },
     "output_type": "display_data"
    }
   ],
   "source": [
    "corr_matrix[\"nonViolPerPop\"].sort_values().plot(kind = 'bar')"
   ]
  },
  {
   "cell_type": "markdown",
   "id": "4f07ebca",
   "metadata": {},
   "source": [
    "Z korelacji wynika,że największy pozytywny wpływ na przestępczość ma wskaźnik rozwodów, wskaźnik ubóstwa, pomocy społecznej, bezrobocie, niepełne wykształcenie,  wskaźnik urbanizacji i wiek. Natomiast negatywny wpływ na przestępczość ma dochód."
   ]
  },
  {
   "cell_type": "markdown",
   "id": "bc28f04f",
   "metadata": {},
   "source": [
    "# Skalowanie zmiennej"
   ]
  },
  {
   "cell_type": "code",
   "execution_count": 20,
   "id": "4d853ca1",
   "metadata": {},
   "outputs": [],
   "source": [
    "crime2 = np.sqrt(crime2)\n",
    "crime2 = np.round(crime2, 5)"
   ]
  },
  {
   "cell_type": "code",
   "execution_count": 21,
   "id": "a0279626",
   "metadata": {},
   "outputs": [
    {
     "data": {
      "text/html": [
       "<div>\n",
       "<style scoped>\n",
       "    .dataframe tbody tr th:only-of-type {\n",
       "        vertical-align: middle;\n",
       "    }\n",
       "\n",
       "    .dataframe tbody tr th {\n",
       "        vertical-align: top;\n",
       "    }\n",
       "\n",
       "    .dataframe thead th {\n",
       "        text-align: right;\n",
       "    }\n",
       "</style>\n",
       "<table border=\"1\" class=\"dataframe\">\n",
       "  <thead>\n",
       "    <tr style=\"text-align: right;\">\n",
       "      <th></th>\n",
       "      <th>PctUnemployed</th>\n",
       "      <th>PctLess9thGrade</th>\n",
       "      <th>PctPopUnderPov</th>\n",
       "      <th>pctWPubAsst</th>\n",
       "      <th>medIncome</th>\n",
       "      <th>agePct12t29</th>\n",
       "      <th>numbUrban</th>\n",
       "      <th>TotalPctDiv</th>\n",
       "      <th>nonViolPerPop</th>\n",
       "    </tr>\n",
       "  </thead>\n",
       "  <tbody>\n",
       "    <tr>\n",
       "      <th>count</th>\n",
       "      <td>2118.000000</td>\n",
       "      <td>2118.000000</td>\n",
       "      <td>2118.000000</td>\n",
       "      <td>2118.000000</td>\n",
       "      <td>2118.000000</td>\n",
       "      <td>2118.000000</td>\n",
       "      <td>2118.000000</td>\n",
       "      <td>2118.000000</td>\n",
       "      <td>2118.000000</td>\n",
       "    </tr>\n",
       "    <tr>\n",
       "      <th>mean</th>\n",
       "      <td>2.395696</td>\n",
       "      <td>2.855605</td>\n",
       "      <td>3.160779</td>\n",
       "      <td>2.459677</td>\n",
       "      <td>181.723063</td>\n",
       "      <td>5.228516</td>\n",
       "      <td>150.349796</td>\n",
       "      <td>3.252775</td>\n",
       "      <td>67.544266</td>\n",
       "    </tr>\n",
       "    <tr>\n",
       "      <th>std</th>\n",
       "      <td>0.545609</td>\n",
       "      <td>1.005500</td>\n",
       "      <td>1.231440</td>\n",
       "      <td>0.841684</td>\n",
       "      <td>34.567385</td>\n",
       "      <td>0.540634</td>\n",
       "      <td>159.076680</td>\n",
       "      <td>0.474180</td>\n",
       "      <td>18.605841</td>\n",
       "    </tr>\n",
       "    <tr>\n",
       "      <th>min</th>\n",
       "      <td>1.148910</td>\n",
       "      <td>0.447210</td>\n",
       "      <td>0.800000</td>\n",
       "      <td>0.424260</td>\n",
       "      <td>94.159440</td>\n",
       "      <td>3.062680</td>\n",
       "      <td>0.000000</td>\n",
       "      <td>1.682260</td>\n",
       "      <td>10.806940</td>\n",
       "    </tr>\n",
       "    <tr>\n",
       "      <th>25%</th>\n",
       "      <td>2.010600</td>\n",
       "      <td>2.137760</td>\n",
       "      <td>2.110093</td>\n",
       "      <td>1.808310</td>\n",
       "      <td>154.591385</td>\n",
       "      <td>4.938875</td>\n",
       "      <td>0.000000</td>\n",
       "      <td>2.920620</td>\n",
       "      <td>54.019163</td>\n",
       "    </tr>\n",
       "    <tr>\n",
       "      <th>50%</th>\n",
       "      <td>2.330240</td>\n",
       "      <td>2.773985</td>\n",
       "      <td>3.024065</td>\n",
       "      <td>2.355840</td>\n",
       "      <td>178.044940</td>\n",
       "      <td>5.174940</td>\n",
       "      <td>133.996190</td>\n",
       "      <td>3.298480</td>\n",
       "      <td>66.524055</td>\n",
       "    </tr>\n",
       "    <tr>\n",
       "      <th>75%</th>\n",
       "      <td>2.725800</td>\n",
       "      <td>3.432200</td>\n",
       "      <td>4.101220</td>\n",
       "      <td>3.011225</td>\n",
       "      <td>204.427853</td>\n",
       "      <td>5.404630</td>\n",
       "      <td>204.572725</td>\n",
       "      <td>3.605550</td>\n",
       "      <td>78.925787</td>\n",
       "    </tr>\n",
       "    <tr>\n",
       "      <th>max</th>\n",
       "      <td>5.588380</td>\n",
       "      <td>7.063290</td>\n",
       "      <td>7.615770</td>\n",
       "      <td>6.694770</td>\n",
       "      <td>351.603470</td>\n",
       "      <td>8.397020</td>\n",
       "      <td>2706.023650</td>\n",
       "      <td>4.714870</td>\n",
       "      <td>164.680780</td>\n",
       "    </tr>\n",
       "  </tbody>\n",
       "</table>\n",
       "</div>"
      ],
      "text/plain": [
       "       PctUnemployed  PctLess9thGrade  PctPopUnderPov  pctWPubAsst  \\\n",
       "count    2118.000000      2118.000000     2118.000000  2118.000000   \n",
       "mean        2.395696         2.855605        3.160779     2.459677   \n",
       "std         0.545609         1.005500        1.231440     0.841684   \n",
       "min         1.148910         0.447210        0.800000     0.424260   \n",
       "25%         2.010600         2.137760        2.110093     1.808310   \n",
       "50%         2.330240         2.773985        3.024065     2.355840   \n",
       "75%         2.725800         3.432200        4.101220     3.011225   \n",
       "max         5.588380         7.063290        7.615770     6.694770   \n",
       "\n",
       "         medIncome  agePct12t29    numbUrban  TotalPctDiv  nonViolPerPop  \n",
       "count  2118.000000  2118.000000  2118.000000  2118.000000    2118.000000  \n",
       "mean    181.723063     5.228516   150.349796     3.252775      67.544266  \n",
       "std      34.567385     0.540634   159.076680     0.474180      18.605841  \n",
       "min      94.159440     3.062680     0.000000     1.682260      10.806940  \n",
       "25%     154.591385     4.938875     0.000000     2.920620      54.019163  \n",
       "50%     178.044940     5.174940   133.996190     3.298480      66.524055  \n",
       "75%     204.427853     5.404630   204.572725     3.605550      78.925787  \n",
       "max     351.603470     8.397020  2706.023650     4.714870     164.680780  "
      ]
     },
     "execution_count": 21,
     "metadata": {},
     "output_type": "execute_result"
    }
   ],
   "source": [
    "crime2.describe()"
   ]
  },
  {
   "cell_type": "code",
   "execution_count": 22,
   "id": "6397c1c9",
   "metadata": {},
   "outputs": [
    {
     "data": {
      "image/png": "[encoded data removed]",
      "text/plain": [
       "<Figure size 864x576 with 9 Axes>"
      ]
     },
     "metadata": {
      "needs_background": "light"
     },
     "output_type": "display_data"
    }
   ],
   "source": [
    "crime2.hist(bins = 50, figsize = (12,8))\n",
    "plt.show()"
   ]
  },
  {
   "cell_type": "markdown",
   "id": "6d83f8cc",
   "metadata": {},
   "source": [
    "# Kategoryzacja zmiennej y"
   ]
  },
  {
   "cell_type": "code",
   "execution_count": 23,
   "id": "4eb2d9f4",
   "metadata": {},
   "outputs": [
    {
     "data": {
      "text/plain": [
       "count    2118.000000\n",
       "mean       67.544266\n",
       "std        18.605841\n",
       "min        10.806940\n",
       "25%        54.019163\n",
       "50%        66.524055\n",
       "75%        78.925787\n",
       "max       164.680780\n",
       "Name: nonViolPerPop, dtype: float64"
      ]
     },
     "execution_count": 23,
     "metadata": {},
     "output_type": "execute_result"
    }
   ],
   "source": [
    "crime2['nonViolPerPop'].describe()"
   ]
  },
  {
   "cell_type": "code",
   "execution_count": 24,
   "id": "d6f777c2",
   "metadata": {},
   "outputs": [],
   "source": [
    "crime2['nonViolPerPop_cat'] = pd.cut(crime2['nonViolPerPop'],\n",
    "                                    bins = [10.807, 54.0192, 66.524, 78.926, np.inf],\n",
    "                                    labels = [1,2,3,4])"
   ]
  },
  {
   "cell_type": "code",
   "execution_count": 25,
   "id": "1b52e64c",
   "metadata": {},
   "outputs": [
    {
     "data": {
      "text/plain": [
       "4    530\n",
       "1    529\n",
       "2    529\n",
       "3    529\n",
       "Name: nonViolPerPop_cat, dtype: int64"
      ]
     },
     "execution_count": 25,
     "metadata": {},
     "output_type": "execute_result"
    }
   ],
   "source": [
    "crime2['nonViolPerPop_cat'].value_counts()"
   ]
  },
  {
   "cell_type": "code",
   "execution_count": 26,
   "id": "dc137e12",
   "metadata": {},
   "outputs": [],
   "source": [
    "from sklearn.model_selection import train_test_split"
   ]
  },
  {
   "cell_type": "code",
   "execution_count": 27,
   "id": "9b09ca70",
   "metadata": {},
   "outputs": [
    {
     "data": {
      "text/html": [
       "<div>\n",
       "<style scoped>\n",
       "    .dataframe tbody tr th:only-of-type {\n",
       "        vertical-align: middle;\n",
       "    }\n",
       "\n",
       "    .dataframe tbody tr th {\n",
       "        vertical-align: top;\n",
       "    }\n",
       "\n",
       "    .dataframe thead th {\n",
       "        text-align: right;\n",
       "    }\n",
       "</style>\n",
       "<table border=\"1\" class=\"dataframe\">\n",
       "  <thead>\n",
       "    <tr style=\"text-align: right;\">\n",
       "      <th></th>\n",
       "      <th>PctUnemployed</th>\n",
       "      <th>PctLess9thGrade</th>\n",
       "      <th>PctPopUnderPov</th>\n",
       "      <th>pctWPubAsst</th>\n",
       "      <th>medIncome</th>\n",
       "      <th>agePct12t29</th>\n",
       "      <th>numbUrban</th>\n",
       "      <th>TotalPctDiv</th>\n",
       "      <th>nonViolPerPop</th>\n",
       "      <th>nonViolPerPop_cat</th>\n",
       "    </tr>\n",
       "  </thead>\n",
       "  <tbody>\n",
       "    <tr>\n",
       "      <th>0</th>\n",
       "      <td>1.64317</td>\n",
       "      <td>2.41039</td>\n",
       "      <td>1.40000</td>\n",
       "      <td>1.01489</td>\n",
       "      <td>274.08393</td>\n",
       "      <td>4.63033</td>\n",
       "      <td>109.45319</td>\n",
       "      <td>2.11424</td>\n",
       "      <td>37.34421</td>\n",
       "      <td>1</td>\n",
       "    </tr>\n",
       "    <tr>\n",
       "      <th>1</th>\n",
       "      <td>1.55885</td>\n",
       "      <td>2.36854</td>\n",
       "      <td>1.99499</td>\n",
       "      <td>1.65831</td>\n",
       "      <td>218.89952</td>\n",
       "      <td>4.61519</td>\n",
       "      <td>152.06249</td>\n",
       "      <td>2.32809</td>\n",
       "      <td>44.22612</td>\n",
       "      <td>1</td>\n",
       "    </tr>\n",
       "    <tr>\n",
       "      <th>2</th>\n",
       "      <td>2.00250</td>\n",
       "      <td>1.67332</td>\n",
       "      <td>2.17945</td>\n",
       "      <td>1.71464</td>\n",
       "      <td>188.86238</td>\n",
       "      <td>5.08724</td>\n",
       "      <td>171.30090</td>\n",
       "      <td>3.54260</td>\n",
       "      <td>78.53350</td>\n",
       "      <td>3</td>\n",
       "    </tr>\n",
       "    <tr>\n",
       "      <th>4</th>\n",
       "      <td>3.01330</td>\n",
       "      <td>3.48569</td>\n",
       "      <td>5.47631</td>\n",
       "      <td>3.34813</td>\n",
       "      <td>131.87115</td>\n",
       "      <td>6.36632</td>\n",
       "      <td>0.00000</td>\n",
       "      <td>3.11929</td>\n",
       "      <td>99.94393</td>\n",
       "      <td>4</td>\n",
       "    </tr>\n",
       "    <tr>\n",
       "      <th>5</th>\n",
       "      <td>2.39165</td>\n",
       "      <td>2.95973</td>\n",
       "      <td>4.21663</td>\n",
       "      <td>2.66833</td>\n",
       "      <td>146.89112</td>\n",
       "      <td>5.73498</td>\n",
       "      <td>374.82529</td>\n",
       "      <td>3.61109</td>\n",
       "      <td>82.86990</td>\n",
       "      <td>4</td>\n",
       "    </tr>\n",
       "    <tr>\n",
       "      <th>...</th>\n",
       "      <td>...</td>\n",
       "      <td>...</td>\n",
       "      <td>...</td>\n",
       "      <td>...</td>\n",
       "      <td>...</td>\n",
       "      <td>...</td>\n",
       "      <td>...</td>\n",
       "      <td>...</td>\n",
       "      <td>...</td>\n",
       "      <td>...</td>\n",
       "    </tr>\n",
       "    <tr>\n",
       "      <th>2210</th>\n",
       "      <td>3.16070</td>\n",
       "      <td>4.13763</td>\n",
       "      <td>5.00600</td>\n",
       "      <td>4.46990</td>\n",
       "      <td>157.24821</td>\n",
       "      <td>5.49181</td>\n",
       "      <td>237.09914</td>\n",
       "      <td>3.65240</td>\n",
       "      <td>85.77202</td>\n",
       "      <td>4</td>\n",
       "    </tr>\n",
       "    <tr>\n",
       "      <th>2211</th>\n",
       "      <td>2.81069</td>\n",
       "      <td>3.53695</td>\n",
       "      <td>4.55961</td>\n",
       "      <td>2.97489</td>\n",
       "      <td>142.55174</td>\n",
       "      <td>5.58838</td>\n",
       "      <td>110.68424</td>\n",
       "      <td>3.71080</td>\n",
       "      <td>76.31802</td>\n",
       "      <td>3</td>\n",
       "    </tr>\n",
       "    <tr>\n",
       "      <th>2212</th>\n",
       "      <td>2.27596</td>\n",
       "      <td>2.79643</td>\n",
       "      <td>2.74955</td>\n",
       "      <td>3.00167</td>\n",
       "      <td>164.86965</td>\n",
       "      <td>4.57821</td>\n",
       "      <td>181.17395</td>\n",
       "      <td>3.35112</td>\n",
       "      <td>68.22170</td>\n",
       "      <td>3</td>\n",
       "    </tr>\n",
       "    <tr>\n",
       "      <th>2213</th>\n",
       "      <td>3.48138</td>\n",
       "      <td>4.93660</td>\n",
       "      <td>5.50636</td>\n",
       "      <td>3.61248</td>\n",
       "      <td>141.06382</td>\n",
       "      <td>5.47814</td>\n",
       "      <td>0.00000</td>\n",
       "      <td>3.53270</td>\n",
       "      <td>73.08126</td>\n",
       "      <td>3</td>\n",
       "    </tr>\n",
       "    <tr>\n",
       "      <th>2214</th>\n",
       "      <td>3.04467</td>\n",
       "      <td>3.73229</td>\n",
       "      <td>4.30116</td>\n",
       "      <td>4.36463</td>\n",
       "      <td>152.60079</td>\n",
       "      <td>5.02096</td>\n",
       "      <td>169.30446</td>\n",
       "      <td>4.16053</td>\n",
       "      <td>94.01330</td>\n",
       "      <td>4</td>\n",
       "    </tr>\n",
       "  </tbody>\n",
       "</table>\n",
       "<p>2118 rows × 10 columns</p>\n",
       "</div>"
      ],
      "text/plain": [
       "      PctUnemployed  PctLess9thGrade  PctPopUnderPov  pctWPubAsst  medIncome  \\\n",
       "0           1.64317          2.41039         1.40000      1.01489  274.08393   \n",
       "1           1.55885          2.36854         1.99499      1.65831  218.89952   \n",
       "2           2.00250          1.67332         2.17945      1.71464  188.86238   \n",
       "4           3.01330          3.48569         5.47631      3.34813  131.87115   \n",
       "5           2.39165          2.95973         4.21663      2.66833  146.89112   \n",
       "...             ...              ...             ...          ...        ...   \n",
       "2210        3.16070          4.13763         5.00600      4.46990  157.24821   \n",
       "2211        2.81069          3.53695         4.55961      2.97489  142.55174   \n",
       "2212        2.27596          2.79643         2.74955      3.00167  164.86965   \n",
       "2213        3.48138          4.93660         5.50636      3.61248  141.06382   \n",
       "2214        3.04467          3.73229         4.30116      4.36463  152.60079   \n",
       "\n",
       "      agePct12t29  numbUrban  TotalPctDiv  nonViolPerPop nonViolPerPop_cat  \n",
       "0         4.63033  109.45319      2.11424       37.34421                 1  \n",
       "1         4.61519  152.06249      2.32809       44.22612                 1  \n",
       "2         5.08724  171.30090      3.54260       78.53350                 3  \n",
       "4         6.36632    0.00000      3.11929       99.94393                 4  \n",
       "5         5.73498  374.82529      3.61109       82.86990                 4  \n",
       "...           ...        ...          ...            ...               ...  \n",
       "2210      5.49181  237.09914      3.65240       85.77202                 4  \n",
       "2211      5.58838  110.68424      3.71080       76.31802                 3  \n",
       "2212      4.57821  181.17395      3.35112       68.22170                 3  \n",
       "2213      5.47814    0.00000      3.53270       73.08126                 3  \n",
       "2214      5.02096  169.30446      4.16053       94.01330                 4  \n",
       "\n",
       "[2118 rows x 10 columns]"
      ]
     },
     "execution_count": 27,
     "metadata": {},
     "output_type": "execute_result"
    }
   ],
   "source": [
    "crime2"
   ]
  },
  {
   "cell_type": "code",
   "execution_count": 28,
   "id": "ef5e0562",
   "metadata": {},
   "outputs": [
    {
     "data": {
      "text/plain": [
       "PctUnemployed        0\n",
       "PctLess9thGrade      0\n",
       "PctPopUnderPov       0\n",
       "pctWPubAsst          0\n",
       "medIncome            0\n",
       "agePct12t29          0\n",
       "numbUrban            0\n",
       "TotalPctDiv          0\n",
       "nonViolPerPop        0\n",
       "nonViolPerPop_cat    0\n",
       "dtype: int64"
      ]
     },
     "execution_count": 28,
     "metadata": {},
     "output_type": "execute_result"
    }
   ],
   "source": [
    "crime2 = crime2.dropna(subset = ['nonViolPerPop_cat'])\n",
    "crime2.isnull().sum()"
   ]
  },
  {
   "cell_type": "code",
   "execution_count": 29,
   "id": "c71db90b",
   "metadata": {},
   "outputs": [],
   "source": [
    "X = crime2.drop(['nonViolPerPop', 'nonViolPerPop_cat'], axis = 1)\n",
    "y = crime2['nonViolPerPop_cat']"
   ]
  },
  {
   "cell_type": "code",
   "execution_count": 30,
   "id": "8fecd9b7",
   "metadata": {},
   "outputs": [],
   "source": [
    "X_train, X_test, y_train, y_test = train_test_split(X,y, test_size = 0.2, random_state=42)"
   ]
  },
  {
   "cell_type": "markdown",
   "id": "5086114e",
   "metadata": {},
   "source": [
    "# Regresja logistyczna"
   ]
  },
  {
   "cell_type": "code",
   "execution_count": 31,
   "id": "bdf4f011",
   "metadata": {},
   "outputs": [],
   "source": [
    "from sklearn.linear_model import LinearRegression\n",
    "from sklearn.metrics import mean_squared_error\n",
    "from sklearn.metrics import r2_score"
   ]
  },
  {
   "cell_type": "code",
   "execution_count": 32,
   "id": "b5eface4",
   "metadata": {},
   "outputs": [],
   "source": [
    "lm = LinearRegression()\n",
    "linear_reg = lm.fit(X_train, y_train)\n",
    "linreg_pred= lm.predict(X_test)"
   ]
  },
  {
   "cell_type": "code",
   "execution_count": 33,
   "id": "81a154d4",
   "metadata": {},
   "outputs": [
    {
     "data": {
      "text/plain": [
       "0.6175842891442818"
      ]
     },
     "execution_count": 33,
     "metadata": {},
     "output_type": "execute_result"
    }
   ],
   "source": [
    "lin_rmse = mean_squared_error(y_test, linreg_pred)\n",
    "lin_rmse"
   ]
  },
  {
   "cell_type": "code",
   "execution_count": 34,
   "id": "db2b26b2",
   "metadata": {},
   "outputs": [
    {
     "data": {
      "text/plain": [
       "0.4993739937360113"
      ]
     },
     "execution_count": 34,
     "metadata": {},
     "output_type": "execute_result"
    }
   ],
   "source": [
    "r2_value = r2_score(y_test, linreg_pred)\n",
    "r2_value"
   ]
  },
  {
   "cell_type": "code",
   "execution_count": 35,
   "id": "6365d592",
   "metadata": {},
   "outputs": [
    {
     "data": {
      "text/html": [
       "<div>\n",
       "<style scoped>\n",
       "    .dataframe tbody tr th:only-of-type {\n",
       "        vertical-align: middle;\n",
       "    }\n",
       "\n",
       "    .dataframe tbody tr th {\n",
       "        vertical-align: top;\n",
       "    }\n",
       "\n",
       "    .dataframe thead th {\n",
       "        text-align: right;\n",
       "    }\n",
       "</style>\n",
       "<table border=\"1\" class=\"dataframe\">\n",
       "  <thead>\n",
       "    <tr style=\"text-align: right;\">\n",
       "      <th></th>\n",
       "      <th>Coeff</th>\n",
       "    </tr>\n",
       "  </thead>\n",
       "  <tbody>\n",
       "    <tr>\n",
       "      <th>PctUnemployed</th>\n",
       "      <td>-0.111742</td>\n",
       "    </tr>\n",
       "    <tr>\n",
       "      <th>pctWPubAsst</th>\n",
       "      <td>-0.090894</td>\n",
       "    </tr>\n",
       "    <tr>\n",
       "      <th>agePct12t29</th>\n",
       "      <td>-0.078118</td>\n",
       "    </tr>\n",
       "    <tr>\n",
       "      <th>numbUrban</th>\n",
       "      <td>0.001061</td>\n",
       "    </tr>\n",
       "    <tr>\n",
       "      <th>medIncome</th>\n",
       "      <td>0.002758</td>\n",
       "    </tr>\n",
       "    <tr>\n",
       "      <th>PctLess9thGrade</th>\n",
       "      <td>0.032699</td>\n",
       "    </tr>\n",
       "    <tr>\n",
       "      <th>PctPopUnderPov</th>\n",
       "      <td>0.486748</td>\n",
       "    </tr>\n",
       "    <tr>\n",
       "      <th>TotalPctDiv</th>\n",
       "      <td>1.000824</td>\n",
       "    </tr>\n",
       "  </tbody>\n",
       "</table>\n",
       "</div>"
      ],
      "text/plain": [
       "                    Coeff\n",
       "PctUnemployed   -0.111742\n",
       "pctWPubAsst     -0.090894\n",
       "agePct12t29     -0.078118\n",
       "numbUrban        0.001061\n",
       "medIncome        0.002758\n",
       "PctLess9thGrade  0.032699\n",
       "PctPopUnderPov   0.486748\n",
       "TotalPctDiv      1.000824"
      ]
     },
     "execution_count": 35,
     "metadata": {},
     "output_type": "execute_result"
    }
   ],
   "source": [
    "cdf = pd.DataFrame(linear_reg.coef_, X.columns, columns = ['Coeff'])\n",
    "cdf.sort_values(by = 'Coeff')"
   ]
  },
  {
   "cell_type": "markdown",
   "id": "7790930a",
   "metadata": {},
   "source": [
    "Model regresji logistycznej wykazał błąd średniokwadratowy na poziomie 0.617584, natomiast R^2 wynioslo 0.49937. \n",
    "Jeśli chodzi o współczynniki przy zmiennych to pozytywny wpływ mają poziom rozwodów, wskaźnik ubóstwa, wykształcenie, dochód i poziom urbanizacji, jednakże negatywny wpływ mają młody wiek, poziom pomocy społecznej i bezrobocie.\n",
    "\n",
    "Podsumowywując poziom rozwodów, wskaźnik ubóstwa, wykształcenie, dochód i poziom urbanizacji  mają oczekiwany taki sam pozytywny wpływ na przestępczość jak wynikało wcześniej z korelacji.\n",
    "Zaskakującymi zmiennych które według korelacji miały dodatnio wpływ na przestępczość, a z regresja liniowa wykazała, że mają ujemny wpływ to wiek, poziom pomocy społecznej i bezrobocie."
   ]
  },
  {
   "cell_type": "markdown",
   "id": "2c372b0d",
   "metadata": {},
   "source": [
    "## Drzewa decyzyjne"
   ]
  },
  {
   "cell_type": "code",
   "execution_count": 36,
   "id": "039629d7",
   "metadata": {},
   "outputs": [],
   "source": [
    "from sklearn.tree import DecisionTreeRegressor"
   ]
  },
  {
   "cell_type": "code",
   "execution_count": 37,
   "id": "bb7764d6",
   "metadata": {},
   "outputs": [],
   "source": [
    "tr = DecisionTreeRegressor(criterion = 'squared_error', max_depth=5, min_samples_leaf=20)\n",
    "tree_reg = tr.fit(X_train, y_train)\n",
    "treereg_pred = tr.predict(X_test)"
   ]
  },
  {
   "cell_type": "code",
   "execution_count": 38,
   "id": "a155b550",
   "metadata": {},
   "outputs": [
    {
     "data": {
      "text/plain": [
       "0.6334301980021543"
      ]
     },
     "execution_count": 38,
     "metadata": {},
     "output_type": "execute_result"
    }
   ],
   "source": [
    "tr_rmse = mean_squared_error(y_test,treereg_pred)\n",
    "tr_rmse"
   ]
  },
  {
   "cell_type": "code",
   "execution_count": 39,
   "id": "b9d2334d",
   "metadata": {},
   "outputs": [
    {
     "data": {
      "text/plain": [
       "0.4865289874646703"
      ]
     },
     "execution_count": 39,
     "metadata": {},
     "output_type": "execute_result"
    }
   ],
   "source": [
    "r2_value = r2_score(y_test, treereg_pred)\n",
    "r2_value"
   ]
  },
  {
   "cell_type": "markdown",
   "id": "f61cf304",
   "metadata": {},
   "source": [
    "Błąd średniokwadatowy zwiększył się w drzewach decyzyjnych. Przy użyciu metody feature importance sprawdzę, która zmienna wykazała najmniejszą istotność."
   ]
  },
  {
   "cell_type": "code",
   "execution_count": 40,
   "id": "4173cf14",
   "metadata": {},
   "outputs": [
    {
     "data": {
      "text/html": [
       "<div>\n",
       "<style scoped>\n",
       "    .dataframe tbody tr th:only-of-type {\n",
       "        vertical-align: middle;\n",
       "    }\n",
       "\n",
       "    .dataframe tbody tr th {\n",
       "        vertical-align: top;\n",
       "    }\n",
       "\n",
       "    .dataframe thead th {\n",
       "        text-align: right;\n",
       "    }\n",
       "</style>\n",
       "<table border=\"1\" class=\"dataframe\">\n",
       "  <thead>\n",
       "    <tr style=\"text-align: right;\">\n",
       "      <th></th>\n",
       "      <th>feat_import</th>\n",
       "    </tr>\n",
       "  </thead>\n",
       "  <tbody>\n",
       "    <tr>\n",
       "      <th>TotalPctDiv</th>\n",
       "      <td>0.666886</td>\n",
       "    </tr>\n",
       "    <tr>\n",
       "      <th>PctPopUnderPov</th>\n",
       "      <td>0.229922</td>\n",
       "    </tr>\n",
       "    <tr>\n",
       "      <th>numbUrban</th>\n",
       "      <td>0.055621</td>\n",
       "    </tr>\n",
       "    <tr>\n",
       "      <th>PctUnemployed</th>\n",
       "      <td>0.019085</td>\n",
       "    </tr>\n",
       "    <tr>\n",
       "      <th>agePct12t29</th>\n",
       "      <td>0.010512</td>\n",
       "    </tr>\n",
       "    <tr>\n",
       "      <th>medIncome</th>\n",
       "      <td>0.008053</td>\n",
       "    </tr>\n",
       "    <tr>\n",
       "      <th>PctLess9thGrade</th>\n",
       "      <td>0.007509</td>\n",
       "    </tr>\n",
       "    <tr>\n",
       "      <th>pctWPubAsst</th>\n",
       "      <td>0.002413</td>\n",
       "    </tr>\n",
       "  </tbody>\n",
       "</table>\n",
       "</div>"
      ],
      "text/plain": [
       "                 feat_import\n",
       "TotalPctDiv         0.666886\n",
       "PctPopUnderPov      0.229922\n",
       "numbUrban           0.055621\n",
       "PctUnemployed       0.019085\n",
       "agePct12t29         0.010512\n",
       "medIncome           0.008053\n",
       "PctLess9thGrade     0.007509\n",
       "pctWPubAsst         0.002413"
      ]
     },
     "execution_count": 40,
     "metadata": {},
     "output_type": "execute_result"
    }
   ],
   "source": [
    "tree_feat = pd.DataFrame(tr.feature_importances_, X.columns, columns = ['feat_import'])\n",
    "tree_feat.sort_values(by = 'feat_import', ascending=False)"
   ]
  },
  {
   "cell_type": "code",
   "execution_count": 41,
   "id": "1a03b753",
   "metadata": {},
   "outputs": [],
   "source": [
    "X2 = crime2.drop(['pctWPubAsst','nonViolPerPop_cat','nonViolPerPop'], axis = 1)\n",
    "X2_train, X2_test, y_train, y_test = train_test_split(X2,y, test_size = 0.2, random_state=42)"
   ]
  },
  {
   "cell_type": "code",
   "execution_count": 42,
   "id": "901bcf9a",
   "metadata": {},
   "outputs": [],
   "source": [
    "tr2 = DecisionTreeRegressor()\n",
    "tree_reg2 = tr2.fit(X2_train, y_train)\n",
    "treereg_pred2 = tr2.predict(X2_test)"
   ]
  },
  {
   "cell_type": "code",
   "execution_count": 43,
   "id": "059e8829",
   "metadata": {},
   "outputs": [
    {
     "data": {
      "text/plain": [
       "1.195754716981132"
      ]
     },
     "execution_count": 43,
     "metadata": {},
     "output_type": "execute_result"
    }
   ],
   "source": [
    "tr_rmse2 = mean_squared_error(y_test,treereg_pred2)\n",
    "tr_rmse2"
   ]
  },
  {
   "cell_type": "code",
   "execution_count": 44,
   "id": "37e27be0",
   "metadata": {},
   "outputs": [
    {
     "data": {
      "text/plain": [
       "0.03069764086285287"
      ]
     },
     "execution_count": 44,
     "metadata": {},
     "output_type": "execute_result"
    }
   ],
   "source": [
    "r2_value = r2_score(y_test, treereg_pred2)\n",
    "r2_value"
   ]
  },
  {
   "cell_type": "code",
   "execution_count": 45,
   "id": "c6fb254c",
   "metadata": {},
   "outputs": [],
   "source": [
    "tree_feat2 = pd.DataFrame(tr2.feature_importances_, X2.columns, columns = ['feat_import2'])"
   ]
  },
  {
   "cell_type": "code",
   "execution_count": 46,
   "id": "7b12c3b6",
   "metadata": {},
   "outputs": [
    {
     "data": {
      "text/html": [
       "<div>\n",
       "<style scoped>\n",
       "    .dataframe tbody tr th:only-of-type {\n",
       "        vertical-align: middle;\n",
       "    }\n",
       "\n",
       "    .dataframe tbody tr th {\n",
       "        vertical-align: top;\n",
       "    }\n",
       "\n",
       "    .dataframe thead th {\n",
       "        text-align: right;\n",
       "    }\n",
       "</style>\n",
       "<table border=\"1\" class=\"dataframe\">\n",
       "  <thead>\n",
       "    <tr style=\"text-align: right;\">\n",
       "      <th></th>\n",
       "      <th>feat_import2</th>\n",
       "      <th>feat_import</th>\n",
       "    </tr>\n",
       "  </thead>\n",
       "  <tbody>\n",
       "    <tr>\n",
       "      <th>TotalPctDiv</th>\n",
       "      <td>0.434889</td>\n",
       "      <td>0.434889</td>\n",
       "    </tr>\n",
       "    <tr>\n",
       "      <th>PctPopUnderPov</th>\n",
       "      <td>0.206292</td>\n",
       "      <td>0.206292</td>\n",
       "    </tr>\n",
       "    <tr>\n",
       "      <th>numbUrban</th>\n",
       "      <td>0.076508</td>\n",
       "      <td>0.076508</td>\n",
       "    </tr>\n",
       "    <tr>\n",
       "      <th>PctLess9thGrade</th>\n",
       "      <td>0.074163</td>\n",
       "      <td>0.074163</td>\n",
       "    </tr>\n",
       "    <tr>\n",
       "      <th>medIncome</th>\n",
       "      <td>0.074133</td>\n",
       "      <td>0.074133</td>\n",
       "    </tr>\n",
       "    <tr>\n",
       "      <th>agePct12t29</th>\n",
       "      <td>0.067602</td>\n",
       "      <td>0.067602</td>\n",
       "    </tr>\n",
       "    <tr>\n",
       "      <th>PctUnemployed</th>\n",
       "      <td>0.066413</td>\n",
       "      <td>0.066413</td>\n",
       "    </tr>\n",
       "  </tbody>\n",
       "</table>\n",
       "</div>"
      ],
      "text/plain": [
       "                 feat_import2  feat_import\n",
       "TotalPctDiv          0.434889     0.434889\n",
       "PctPopUnderPov       0.206292     0.206292\n",
       "numbUrban            0.076508     0.076508\n",
       "PctLess9thGrade      0.074163     0.074163\n",
       "medIncome            0.074133     0.074133\n",
       "agePct12t29          0.067602     0.067602\n",
       "PctUnemployed        0.066413     0.066413"
      ]
     },
     "execution_count": 46,
     "metadata": {},
     "output_type": "execute_result"
    }
   ],
   "source": [
    "tree_feat2['feat_import'] = tr2.feature_importances_\n",
    "\n",
    "tree_feat2.sort_values(by = 'feat_import2', ascending=False)"
   ]
  },
  {
   "cell_type": "markdown",
   "id": "86792a45",
   "metadata": {},
   "source": [
    "## Lasy losowe"
   ]
  },
  {
   "cell_type": "code",
   "execution_count": 47,
   "id": "736568ad",
   "metadata": {},
   "outputs": [],
   "source": [
    "from sklearn.ensemble import RandomForestRegressor"
   ]
  },
  {
   "cell_type": "code",
   "execution_count": 48,
   "id": "592578b7",
   "metadata": {},
   "outputs": [],
   "source": [
    "rfr = RandomForestRegressor(max_depth = 5, min_samples_leaf=20)\n",
    "random_forest = rfr.fit(X_train, y_train)\n",
    "randfor_pred = rfr.predict(X_test)"
   ]
  },
  {
   "cell_type": "code",
   "execution_count": 49,
   "id": "6e0532d9",
   "metadata": {},
   "outputs": [
    {
     "data": {
      "text/plain": [
       "0.5942306085400672"
      ]
     },
     "execution_count": 49,
     "metadata": {},
     "output_type": "execute_result"
    }
   ],
   "source": [
    "rfr_rmse = mean_squared_error(y_test,randfor_pred)\n",
    "rfr_rmse"
   ]
  },
  {
   "cell_type": "code",
   "execution_count": 50,
   "id": "c54dd8e9",
   "metadata": {},
   "outputs": [
    {
     "data": {
      "text/plain": [
       "0.5183049478712797"
      ]
     },
     "execution_count": 50,
     "metadata": {},
     "output_type": "execute_result"
    }
   ],
   "source": [
    "r2_value = r2_score(y_test, randfor_pred)\n",
    "r2_value"
   ]
  },
  {
   "cell_type": "code",
   "execution_count": 51,
   "id": "6001d39b",
   "metadata": {},
   "outputs": [
    {
     "data": {
      "text/html": [
       "<div>\n",
       "<style scoped>\n",
       "    .dataframe tbody tr th:only-of-type {\n",
       "        vertical-align: middle;\n",
       "    }\n",
       "\n",
       "    .dataframe tbody tr th {\n",
       "        vertical-align: top;\n",
       "    }\n",
       "\n",
       "    .dataframe thead th {\n",
       "        text-align: right;\n",
       "    }\n",
       "</style>\n",
       "<table border=\"1\" class=\"dataframe\">\n",
       "  <thead>\n",
       "    <tr style=\"text-align: right;\">\n",
       "      <th></th>\n",
       "      <th>feat_import</th>\n",
       "    </tr>\n",
       "  </thead>\n",
       "  <tbody>\n",
       "    <tr>\n",
       "      <th>TotalPctDiv</th>\n",
       "      <td>0.548012</td>\n",
       "    </tr>\n",
       "    <tr>\n",
       "      <th>PctPopUnderPov</th>\n",
       "      <td>0.326949</td>\n",
       "    </tr>\n",
       "    <tr>\n",
       "      <th>numbUrban</th>\n",
       "      <td>0.054583</td>\n",
       "    </tr>\n",
       "    <tr>\n",
       "      <th>agePct12t29</th>\n",
       "      <td>0.025128</td>\n",
       "    </tr>\n",
       "    <tr>\n",
       "      <th>PctUnemployed</th>\n",
       "      <td>0.013051</td>\n",
       "    </tr>\n",
       "    <tr>\n",
       "      <th>pctWPubAsst</th>\n",
       "      <td>0.011399</td>\n",
       "    </tr>\n",
       "    <tr>\n",
       "      <th>medIncome</th>\n",
       "      <td>0.011198</td>\n",
       "    </tr>\n",
       "    <tr>\n",
       "      <th>PctLess9thGrade</th>\n",
       "      <td>0.009680</td>\n",
       "    </tr>\n",
       "  </tbody>\n",
       "</table>\n",
       "</div>"
      ],
      "text/plain": [
       "                 feat_import\n",
       "TotalPctDiv         0.548012\n",
       "PctPopUnderPov      0.326949\n",
       "numbUrban           0.054583\n",
       "agePct12t29         0.025128\n",
       "PctUnemployed       0.013051\n",
       "pctWPubAsst         0.011399\n",
       "medIncome           0.011198\n",
       "PctLess9thGrade     0.009680"
      ]
     },
     "execution_count": 51,
     "metadata": {},
     "output_type": "execute_result"
    }
   ],
   "source": [
    "randfor_feat = pd.DataFrame(rfr.feature_importances_, X.columns, columns = ['feat_import'])\n",
    "randfor_feat.sort_values(by = 'feat_import', ascending=False)"
   ]
  },
  {
   "cell_type": "markdown",
   "id": "dac1a51f",
   "metadata": {},
   "source": [
    "Lasy losowe mają średni błąd kwadratowy na poziomie 0,6036, drzewa decyzyjne miały 1,16 a regresja liniowa miała 0.61. \n",
    "Po sprawdzeniu istotności zmiennych w lasach losowych, zdecydowałam o usnięciu zmiennej poziom pomocy społecznej."
   ]
  },
  {
   "cell_type": "code",
   "execution_count": 52,
   "id": "c158399b",
   "metadata": {},
   "outputs": [],
   "source": [
    "X2 = crime2.drop(['pctWPubAsst','nonViolPerPop_cat','nonViolPerPop'], axis = 1)\n",
    "X2_train, X2_test, y_train, y_test = train_test_split(X2,y, test_size = 0.2, random_state=42)"
   ]
  },
  {
   "cell_type": "code",
   "execution_count": 53,
   "id": "7fc9c6f1",
   "metadata": {},
   "outputs": [],
   "source": [
    "rfr2 = RandomForestRegressor()\n",
    "random_forest2 = rfr2.fit(X2_train, y_train)\n",
    "randfor_pred2 = rfr2.predict(X2_test)"
   ]
  },
  {
   "cell_type": "code",
   "execution_count": 54,
   "id": "fb1bed80",
   "metadata": {},
   "outputs": [
    {
     "data": {
      "text/plain": [
       "0.6126620283018868"
      ]
     },
     "execution_count": 54,
     "metadata": {},
     "output_type": "execute_result"
    }
   ],
   "source": [
    "rfr_rmse2 = mean_squared_error(y_test,randfor_pred2)\n",
    "rfr_rmse2"
   ]
  },
  {
   "cell_type": "code",
   "execution_count": 55,
   "id": "305069e8",
   "metadata": {},
   "outputs": [
    {
     "data": {
      "text/plain": [
       "0.5033640754635309"
      ]
     },
     "execution_count": 55,
     "metadata": {},
     "output_type": "execute_result"
    }
   ],
   "source": [
    "r2_value = r2_score(y_test, randfor_pred2)\n",
    "r2_value"
   ]
  },
  {
   "cell_type": "code",
   "execution_count": 56,
   "id": "3a3ddf2e",
   "metadata": {},
   "outputs": [
    {
     "data": {
      "text/html": [
       "<div>\n",
       "<style scoped>\n",
       "    .dataframe tbody tr th:only-of-type {\n",
       "        vertical-align: middle;\n",
       "    }\n",
       "\n",
       "    .dataframe tbody tr th {\n",
       "        vertical-align: top;\n",
       "    }\n",
       "\n",
       "    .dataframe thead th {\n",
       "        text-align: right;\n",
       "    }\n",
       "</style>\n",
       "<table border=\"1\" class=\"dataframe\">\n",
       "  <thead>\n",
       "    <tr style=\"text-align: right;\">\n",
       "      <th></th>\n",
       "      <th>feat_import2</th>\n",
       "    </tr>\n",
       "  </thead>\n",
       "  <tbody>\n",
       "    <tr>\n",
       "      <th>TotalPctDiv</th>\n",
       "      <td>0.371223</td>\n",
       "    </tr>\n",
       "    <tr>\n",
       "      <th>PctPopUnderPov</th>\n",
       "      <td>0.268113</td>\n",
       "    </tr>\n",
       "    <tr>\n",
       "      <th>agePct12t29</th>\n",
       "      <td>0.080392</td>\n",
       "    </tr>\n",
       "    <tr>\n",
       "      <th>numbUrban</th>\n",
       "      <td>0.073710</td>\n",
       "    </tr>\n",
       "    <tr>\n",
       "      <th>PctUnemployed</th>\n",
       "      <td>0.070379</td>\n",
       "    </tr>\n",
       "    <tr>\n",
       "      <th>medIncome</th>\n",
       "      <td>0.070222</td>\n",
       "    </tr>\n",
       "    <tr>\n",
       "      <th>PctLess9thGrade</th>\n",
       "      <td>0.065961</td>\n",
       "    </tr>\n",
       "  </tbody>\n",
       "</table>\n",
       "</div>"
      ],
      "text/plain": [
       "                 feat_import2\n",
       "TotalPctDiv          0.371223\n",
       "PctPopUnderPov       0.268113\n",
       "agePct12t29          0.080392\n",
       "numbUrban            0.073710\n",
       "PctUnemployed        0.070379\n",
       "medIncome            0.070222\n",
       "PctLess9thGrade      0.065961"
      ]
     },
     "execution_count": 56,
     "metadata": {},
     "output_type": "execute_result"
    }
   ],
   "source": [
    "randfor_feat2 = pd.DataFrame(rfr2.feature_importances_, X2.columns, columns = ['feat_import2'])\n",
    "randfor_feat2.sort_values(by = 'feat_import2', ascending=False)"
   ]
  },
  {
   "cell_type": "markdown",
   "id": "1f998d05",
   "metadata": {},
   "source": [
    "# Usuwam wykształcenie"
   ]
  },
  {
   "cell_type": "code",
   "execution_count": 57,
   "id": "7f4e7447",
   "metadata": {},
   "outputs": [],
   "source": [
    "X3 = crime2.drop(['PctLess9thGrade','pctWPubAsst','nonViolPerPop_cat', 'nonViolPerPop'], axis = 1)\n",
    "X3_train, X3_test, y_train, y_test = train_test_split(X3,y, test_size = 0.2, random_state=42)"
   ]
  },
  {
   "cell_type": "code",
   "execution_count": 58,
   "id": "b372845a",
   "metadata": {},
   "outputs": [],
   "source": [
    "rfr3 = RandomForestRegressor()\n",
    "random_forest3 = rfr3.fit(X3_train, y_train)\n",
    "randfor_pred3 = rfr3.predict(X3_test)"
   ]
  },
  {
   "cell_type": "code",
   "execution_count": 59,
   "id": "733cc5ae",
   "metadata": {},
   "outputs": [
    {
     "data": {
      "text/plain": [
       "0.620642216981132"
      ]
     },
     "execution_count": 59,
     "metadata": {},
     "output_type": "execute_result"
    }
   ],
   "source": [
    "rfr_rmse3 = mean_squared_error(y_test,randfor_pred3)\n",
    "rfr_rmse3"
   ]
  },
  {
   "cell_type": "code",
   "execution_count": 60,
   "id": "c6d771f7",
   "metadata": {},
   "outputs": [
    {
     "data": {
      "text/plain": [
       "0.49689517711564846"
      ]
     },
     "execution_count": 60,
     "metadata": {},
     "output_type": "execute_result"
    }
   ],
   "source": [
    "r2_value = r2_score(y_test, randfor_pred3)\n",
    "r2_value"
   ]
  },
  {
   "cell_type": "code",
   "execution_count": 61,
   "id": "64b1bbad",
   "metadata": {},
   "outputs": [
    {
     "data": {
      "text/html": [
       "<div>\n",
       "<style scoped>\n",
       "    .dataframe tbody tr th:only-of-type {\n",
       "        vertical-align: middle;\n",
       "    }\n",
       "\n",
       "    .dataframe tbody tr th {\n",
       "        vertical-align: top;\n",
       "    }\n",
       "\n",
       "    .dataframe thead th {\n",
       "        text-align: right;\n",
       "    }\n",
       "</style>\n",
       "<table border=\"1\" class=\"dataframe\">\n",
       "  <thead>\n",
       "    <tr style=\"text-align: right;\">\n",
       "      <th></th>\n",
       "      <th>feat_import3</th>\n",
       "    </tr>\n",
       "  </thead>\n",
       "  <tbody>\n",
       "    <tr>\n",
       "      <th>TotalPctDiv</th>\n",
       "      <td>0.382294</td>\n",
       "    </tr>\n",
       "    <tr>\n",
       "      <th>PctPopUnderPov</th>\n",
       "      <td>0.281589</td>\n",
       "    </tr>\n",
       "    <tr>\n",
       "      <th>agePct12t29</th>\n",
       "      <td>0.092666</td>\n",
       "    </tr>\n",
       "    <tr>\n",
       "      <th>numbUrban</th>\n",
       "      <td>0.084141</td>\n",
       "    </tr>\n",
       "    <tr>\n",
       "      <th>medIncome</th>\n",
       "      <td>0.082259</td>\n",
       "    </tr>\n",
       "    <tr>\n",
       "      <th>PctUnemployed</th>\n",
       "      <td>0.077051</td>\n",
       "    </tr>\n",
       "  </tbody>\n",
       "</table>\n",
       "</div>"
      ],
      "text/plain": [
       "                feat_import3\n",
       "TotalPctDiv         0.382294\n",
       "PctPopUnderPov      0.281589\n",
       "agePct12t29         0.092666\n",
       "numbUrban           0.084141\n",
       "medIncome           0.082259\n",
       "PctUnemployed       0.077051"
      ]
     },
     "execution_count": 61,
     "metadata": {},
     "output_type": "execute_result"
    }
   ],
   "source": [
    "randfor_feat3 = pd.DataFrame(rfr3.feature_importances_, X3.columns, columns = ['feat_import3'])\n",
    "randfor_feat3.sort_values(by = 'feat_import3', ascending=False)"
   ]
  },
  {
   "cell_type": "markdown",
   "id": "ce0e823b",
   "metadata": {},
   "source": [
    "Metoda usuwania zmiennych nie zmnienia skuteczności modelu."
   ]
  },
  {
   "cell_type": "code",
   "execution_count": 62,
   "id": "d2d09e84",
   "metadata": {},
   "outputs": [
    {
     "name": "stderr",
     "output_type": "stream",
     "text": [
      "2024-03-23 21:00:37.786867: I tensorflow/core/platform/cpu_feature_guard.cc:182] This TensorFlow binary is optimized to use available CPU instructions in performance-critical operations.\n",
      "To enable the following instructions: AVX2 FMA, in other operations, rebuild TensorFlow with the appropriate compiler flags.\n"
     ]
    }
   ],
   "source": [
    "import tensorflow as tf"
   ]
  },
  {
   "cell_type": "code",
   "execution_count": 63,
   "id": "46293b45",
   "metadata": {},
   "outputs": [],
   "source": [
    "from tensorflow.keras.models import Sequential\n",
    "from tensorflow.keras.layers import Dense"
   ]
  },
  {
   "cell_type": "markdown",
   "id": "f1ea8160",
   "metadata": {},
   "source": [
    "# Pierwszy model NN"
   ]
  },
  {
   "cell_type": "code",
   "execution_count": 64,
   "id": "b1a2edb3",
   "metadata": {},
   "outputs": [],
   "source": [
    "model1 = Sequential()\n",
    "\n",
    "model1.add(Dense(50,activation='relu'))\n",
    "model1.add(Dense(25,activation='relu'))\n",
    "model1.add(Dense(10,activation='relu'))\n",
    "\n",
    "\n",
    "model1.add(Dense(1))\n",
    "\n",
    "model1.compile(optimizer='rmsprop',loss='mse')"
   ]
  },
  {
   "cell_type": "code",
   "execution_count": 65,
   "id": "352fabf0",
   "metadata": {},
   "outputs": [
    {
     "name": "stdout",
     "output_type": "stream",
     "text": [
      "Epoch 1/100\n",
      "14/14 [==============================] - 1s 25ms/step - loss: 40.1892 - val_loss: 2.7753\n",
      "Epoch 2/100\n",
      "14/14 [==============================] - 0s 7ms/step - loss: 10.2400 - val_loss: 1.9746\n",
      "Epoch 3/100\n",
      "14/14 [==============================] - 0s 7ms/step - loss: 9.3977 - val_loss: 5.3067\n",
      "Epoch 4/100\n",
      "14/14 [==============================] - 0s 7ms/step - loss: 8.7589 - val_loss: 3.6405\n",
      "Epoch 5/100\n",
      "14/14 [==============================] - 0s 8ms/step - loss: 8.8339 - val_loss: 3.1632\n",
      "Epoch 6/100\n",
      "14/14 [==============================] - 0s 9ms/step - loss: 12.0803 - val_loss: 1.0395\n",
      "Epoch 7/100\n",
      "14/14 [==============================] - 0s 5ms/step - loss: 6.7633 - val_loss: 3.8100\n",
      "Epoch 8/100\n",
      "14/14 [==============================] - 0s 6ms/step - loss: 8.4330 - val_loss: 9.3471\n",
      "Epoch 9/100\n",
      "14/14 [==============================] - 0s 7ms/step - loss: 9.8556 - val_loss: 2.2581\n",
      "Epoch 10/100\n",
      "14/14 [==============================] - 0s 7ms/step - loss: 9.1247 - val_loss: 20.8242\n",
      "Epoch 11/100\n",
      "14/14 [==============================] - 0s 7ms/step - loss: 5.5369 - val_loss: 24.5684\n",
      "Epoch 12/100\n",
      "14/14 [==============================] - 0s 9ms/step - loss: 6.2910 - val_loss: 3.6177\n",
      "Epoch 13/100\n",
      "14/14 [==============================] - 0s 7ms/step - loss: 10.9981 - val_loss: 1.2943\n",
      "Epoch 14/100\n",
      "14/14 [==============================] - 0s 7ms/step - loss: 6.6932 - val_loss: 4.5899\n",
      "Epoch 15/100\n",
      "14/14 [==============================] - 0s 7ms/step - loss: 7.6735 - val_loss: 5.6151\n",
      "Epoch 16/100\n",
      "14/14 [==============================] - 0s 7ms/step - loss: 9.6793 - val_loss: 0.9999\n",
      "Epoch 17/100\n",
      "14/14 [==============================] - 0s 7ms/step - loss: 6.4591 - val_loss: 2.3153\n",
      "Epoch 18/100\n",
      "14/14 [==============================] - 0s 7ms/step - loss: 5.8841 - val_loss: 26.6202\n",
      "Epoch 19/100\n",
      "14/14 [==============================] - 0s 6ms/step - loss: 6.1379 - val_loss: 33.0721\n",
      "Epoch 20/100\n",
      "14/14 [==============================] - 0s 9ms/step - loss: 10.2336 - val_loss: 2.0152\n",
      "Epoch 21/100\n",
      "14/14 [==============================] - 0s 6ms/step - loss: 6.6154 - val_loss: 1.0191\n",
      "Epoch 22/100\n",
      "14/14 [==============================] - 0s 6ms/step - loss: 7.6060 - val_loss: 2.9466\n",
      "Epoch 23/100\n",
      "14/14 [==============================] - 0s 6ms/step - loss: 11.8868 - val_loss: 1.4970\n",
      "Epoch 24/100\n",
      "14/14 [==============================] - 0s 6ms/step - loss: 1.0828 - val_loss: 4.6983\n",
      "Epoch 25/100\n",
      "14/14 [==============================] - 0s 6ms/step - loss: 8.2174 - val_loss: 5.0495\n",
      "Epoch 26/100\n",
      "14/14 [==============================] - 0s 8ms/step - loss: 5.9132 - val_loss: 2.1236\n",
      "Epoch 27/100\n",
      "14/14 [==============================] - 0s 8ms/step - loss: 5.7087 - val_loss: 2.7390\n",
      "Epoch 28/100\n",
      "14/14 [==============================] - 0s 6ms/step - loss: 6.1627 - val_loss: 17.8045\n",
      "Epoch 29/100\n",
      "14/14 [==============================] - 0s 6ms/step - loss: 3.1334 - val_loss: 15.2556\n",
      "Epoch 30/100\n",
      "14/14 [==============================] - 0s 6ms/step - loss: 5.3574 - val_loss: 2.2516\n",
      "Epoch 31/100\n",
      "14/14 [==============================] - 0s 6ms/step - loss: 7.3407 - val_loss: 1.5690\n",
      "Epoch 32/100\n",
      "14/14 [==============================] - 0s 6ms/step - loss: 5.3516 - val_loss: 1.7138\n",
      "Epoch 33/100\n",
      "14/14 [==============================] - 0s 6ms/step - loss: 4.1340 - val_loss: 2.3990\n",
      "Epoch 34/100\n",
      "14/14 [==============================] - 0s 6ms/step - loss: 7.2360 - val_loss: 5.2465\n",
      "Epoch 35/100\n",
      "14/14 [==============================] - 0s 5ms/step - loss: 2.9165 - val_loss: 2.3284\n",
      "Epoch 36/100\n",
      "14/14 [==============================] - 0s 7ms/step - loss: 8.1273 - val_loss: 2.3906\n",
      "Epoch 37/100\n",
      "14/14 [==============================] - 0s 6ms/step - loss: 2.8134 - val_loss: 4.3363\n",
      "Epoch 38/100\n",
      "14/14 [==============================] - 0s 7ms/step - loss: 4.6161 - val_loss: 1.1920\n",
      "Epoch 39/100\n",
      "14/14 [==============================] - 0s 5ms/step - loss: 5.8092 - val_loss: 1.3434\n",
      "Epoch 40/100\n",
      "14/14 [==============================] - 0s 9ms/step - loss: 3.2673 - val_loss: 4.5574\n",
      "Epoch 41/100\n",
      "14/14 [==============================] - 0s 7ms/step - loss: 5.0790 - val_loss: 3.1263\n",
      "Epoch 42/100\n",
      "14/14 [==============================] - 0s 8ms/step - loss: 2.7226 - val_loss: 4.4825\n",
      "Epoch 43/100\n",
      "14/14 [==============================] - 0s 7ms/step - loss: 4.6597 - val_loss: 2.9981\n",
      "Epoch 44/100\n",
      "14/14 [==============================] - 0s 5ms/step - loss: 3.5661 - val_loss: 1.8229\n",
      "Epoch 45/100\n",
      "14/14 [==============================] - 0s 5ms/step - loss: 3.2358 - val_loss: 1.8845\n",
      "Epoch 46/100\n",
      "14/14 [==============================] - 0s 6ms/step - loss: 3.8473 - val_loss: 1.0981\n",
      "Epoch 47/100\n",
      "14/14 [==============================] - 0s 6ms/step - loss: 4.8449 - val_loss: 0.9375\n",
      "Epoch 48/100\n",
      "14/14 [==============================] - 0s 6ms/step - loss: 2.7604 - val_loss: 2.7243\n",
      "Epoch 49/100\n",
      "14/14 [==============================] - 0s 5ms/step - loss: 2.9787 - val_loss: 2.7918\n",
      "Epoch 50/100\n",
      "14/14 [==============================] - 0s 6ms/step - loss: 2.7643 - val_loss: 2.2298\n",
      "Epoch 51/100\n",
      "14/14 [==============================] - 0s 7ms/step - loss: 3.1134 - val_loss: 2.2611\n",
      "Epoch 52/100\n",
      "14/14 [==============================] - 0s 9ms/step - loss: 2.7747 - val_loss: 3.2251\n",
      "Epoch 53/100\n",
      "14/14 [==============================] - 0s 6ms/step - loss: 3.3539 - val_loss: 3.3813\n",
      "Epoch 54/100\n",
      "14/14 [==============================] - 0s 6ms/step - loss: 2.7472 - val_loss: 2.5304\n",
      "Epoch 55/100\n",
      "14/14 [==============================] - 0s 9ms/step - loss: 3.1639 - val_loss: 7.7958\n",
      "Epoch 56/100\n",
      "14/14 [==============================] - 0s 12ms/step - loss: 2.9407 - val_loss: 3.1792\n",
      "Epoch 57/100\n",
      "14/14 [==============================] - 0s 9ms/step - loss: 1.7453 - val_loss: 1.2463\n",
      "Epoch 58/100\n",
      "14/14 [==============================] - 0s 10ms/step - loss: 4.7459 - val_loss: 1.8942\n",
      "Epoch 59/100\n",
      "14/14 [==============================] - 0s 10ms/step - loss: 2.8375 - val_loss: 2.3898\n",
      "Epoch 60/100\n",
      "14/14 [==============================] - 0s 12ms/step - loss: 2.3500 - val_loss: 3.8826\n",
      "Epoch 61/100\n",
      "14/14 [==============================] - 0s 14ms/step - loss: 2.4308 - val_loss: 2.1404\n",
      "Epoch 62/100\n",
      "14/14 [==============================] - 0s 8ms/step - loss: 2.8393 - val_loss: 2.0010\n",
      "Epoch 63/100\n",
      "14/14 [==============================] - 0s 8ms/step - loss: 3.0680 - val_loss: 1.0717\n",
      "Epoch 64/100\n",
      "14/14 [==============================] - 0s 8ms/step - loss: 2.5226 - val_loss: 17.2192\n",
      "Epoch 65/100\n",
      "14/14 [==============================] - 0s 10ms/step - loss: 2.2199 - val_loss: 3.0940\n",
      "Epoch 66/100\n",
      "14/14 [==============================] - 0s 8ms/step - loss: 2.8374 - val_loss: 1.0443\n",
      "Epoch 67/100\n",
      "14/14 [==============================] - 0s 9ms/step - loss: 2.3962 - val_loss: 5.7313\n",
      "Epoch 68/100\n",
      "14/14 [==============================] - 0s 10ms/step - loss: 2.4203 - val_loss: 1.5610\n",
      "Epoch 69/100\n",
      "14/14 [==============================] - 0s 8ms/step - loss: 2.1570 - val_loss: 1.1451\n",
      "Epoch 70/100\n",
      "14/14 [==============================] - 0s 6ms/step - loss: 2.0880 - val_loss: 0.9615\n",
      "Epoch 71/100\n",
      "14/14 [==============================] - 0s 6ms/step - loss: 2.7880 - val_loss: 3.2953\n",
      "Epoch 72/100\n",
      "14/14 [==============================] - 0s 5ms/step - loss: 2.0318 - val_loss: 2.0618\n",
      "Epoch 73/100\n",
      "14/14 [==============================] - 0s 5ms/step - loss: 1.8978 - val_loss: 2.1283\n",
      "Epoch 74/100\n",
      "14/14 [==============================] - 0s 5ms/step - loss: 2.0534 - val_loss: 1.2202\n",
      "Epoch 75/100\n",
      "14/14 [==============================] - 0s 6ms/step - loss: 2.3131 - val_loss: 0.8793\n",
      "Epoch 76/100\n",
      "14/14 [==============================] - 0s 5ms/step - loss: 2.0498 - val_loss: 1.2217\n",
      "Epoch 77/100\n",
      "14/14 [==============================] - 0s 6ms/step - loss: 2.4606 - val_loss: 1.2153\n",
      "Epoch 78/100\n",
      "14/14 [==============================] - 0s 6ms/step - loss: 1.6866 - val_loss: 2.0094\n",
      "Epoch 79/100\n",
      "14/14 [==============================] - 0s 5ms/step - loss: 1.5748 - val_loss: 4.7797\n",
      "Epoch 80/100\n",
      "14/14 [==============================] - 0s 4ms/step - loss: 1.5967 - val_loss: 5.3534\n",
      "Epoch 81/100\n",
      "14/14 [==============================] - 0s 5ms/step - loss: 2.0005 - val_loss: 1.4156\n",
      "Epoch 82/100\n",
      "14/14 [==============================] - 0s 7ms/step - loss: 1.7283 - val_loss: 6.2597\n"
     ]
    },
    {
     "name": "stdout",
     "output_type": "stream",
     "text": [
      "Epoch 83/100\n",
      "14/14 [==============================] - 0s 6ms/step - loss: 1.6019 - val_loss: 1.8272\n",
      "Epoch 84/100\n",
      "14/14 [==============================] - 0s 8ms/step - loss: 1.6501 - val_loss: 2.4752\n",
      "Epoch 85/100\n",
      "14/14 [==============================] - 0s 7ms/step - loss: 1.8386 - val_loss: 1.6246\n",
      "Epoch 86/100\n",
      "14/14 [==============================] - 0s 8ms/step - loss: 1.7500 - val_loss: 1.0943\n",
      "Epoch 87/100\n",
      "14/14 [==============================] - 0s 7ms/step - loss: 1.6618 - val_loss: 0.9637\n",
      "Epoch 88/100\n",
      "14/14 [==============================] - 0s 6ms/step - loss: 1.7838 - val_loss: 0.9256\n",
      "Epoch 89/100\n",
      "14/14 [==============================] - 0s 6ms/step - loss: 1.5521 - val_loss: 2.0445\n",
      "Epoch 90/100\n",
      "14/14 [==============================] - 0s 7ms/step - loss: 1.3530 - val_loss: 1.9722\n",
      "Epoch 91/100\n",
      "14/14 [==============================] - 0s 5ms/step - loss: 1.7270 - val_loss: 1.2440\n",
      "Epoch 92/100\n",
      "14/14 [==============================] - 0s 6ms/step - loss: 1.8229 - val_loss: 1.3891\n",
      "Epoch 93/100\n",
      "14/14 [==============================] - 0s 6ms/step - loss: 1.1268 - val_loss: 1.8719\n",
      "Epoch 94/100\n",
      "14/14 [==============================] - 0s 6ms/step - loss: 1.3886 - val_loss: 1.8662\n",
      "Epoch 95/100\n",
      "14/14 [==============================] - 0s 7ms/step - loss: 1.3377 - val_loss: 4.5872\n",
      "Epoch 96/100\n",
      "14/14 [==============================] - 0s 7ms/step - loss: 1.2121 - val_loss: 3.3102\n",
      "Epoch 97/100\n",
      "14/14 [==============================] - 0s 6ms/step - loss: 1.3932 - val_loss: 1.4703\n",
      "Epoch 98/100\n",
      "14/14 [==============================] - 0s 5ms/step - loss: 1.5070 - val_loss: 0.8943\n",
      "Epoch 99/100\n",
      "14/14 [==============================] - 0s 6ms/step - loss: 1.5633 - val_loss: 1.3189\n",
      "Epoch 100/100\n",
      "14/14 [==============================] - 0s 6ms/step - loss: 1.2245 - val_loss: 1.4213\n"
     ]
    },
    {
     "data": {
      "text/plain": [
       "<keras.src.callbacks.History at 0x7fe185544490>"
      ]
     },
     "execution_count": 65,
     "metadata": {},
     "output_type": "execute_result"
    }
   ],
   "source": [
    "model1.fit(x = X_train, y = y_train, epochs = 100, batch_size = 128, validation_data = (X_test, y_test))"
   ]
  },
  {
   "cell_type": "code",
   "execution_count": 66,
   "id": "9f1410c3",
   "metadata": {},
   "outputs": [],
   "source": [
    "loss1= pd.DataFrame(model1.history.history)"
   ]
  },
  {
   "cell_type": "code",
   "execution_count": 67,
   "id": "19e986ab",
   "metadata": {
    "scrolled": true
   },
   "outputs": [
    {
     "data": {
      "text/plain": [
       "<AxesSubplot:>"
      ]
     },
     "execution_count": 67,
     "metadata": {},
     "output_type": "execute_result"
    },
    {
     "data": {
      "image/png": "[encoded data removed]",
      "text/plain": [
       "<Figure size 432x288 with 1 Axes>"
      ]
     },
     "metadata": {
      "needs_background": "light"
     },
     "output_type": "display_data"
    }
   ],
   "source": [
    "loss1.plot()"
   ]
  },
  {
   "cell_type": "code",
   "execution_count": 68,
   "id": "6c56d85f",
   "metadata": {},
   "outputs": [
    {
     "name": "stdout",
     "output_type": "stream",
     "text": [
      "14/14 [==============================] - 0s 1ms/step\n"
     ]
    }
   ],
   "source": [
    "nn1_pred = model1.predict(X_test)"
   ]
  },
  {
   "cell_type": "code",
   "execution_count": 69,
   "id": "5a138ca7",
   "metadata": {},
   "outputs": [
    {
     "data": {
      "text/plain": [
       "1.4213033710017797"
      ]
     },
     "execution_count": 69,
     "metadata": {},
     "output_type": "execute_result"
    }
   ],
   "source": [
    "nn1_rmse = mean_squared_error(y_test,nn1_pred)\n",
    "nn1_rmse"
   ]
  },
  {
   "cell_type": "code",
   "execution_count": 70,
   "id": "0a310824",
   "metadata": {},
   "outputs": [
    {
     "data": {
      "text/plain": [
       "-0.15213654689964584"
      ]
     },
     "execution_count": 70,
     "metadata": {},
     "output_type": "execute_result"
    }
   ],
   "source": [
    "r2_value = r2_score(y_test, nn1_pred)\n",
    "r2_value"
   ]
  },
  {
   "cell_type": "markdown",
   "id": "c92ffd9f",
   "metadata": {},
   "source": [
    "# Model 2 z optymalizatorem Adam"
   ]
  },
  {
   "cell_type": "code",
   "execution_count": 71,
   "id": "0102f456",
   "metadata": {},
   "outputs": [],
   "source": [
    "model2 = Sequential()\n",
    "\n",
    "model2.add(Dense(50,activation='relu'))\n",
    "model2.add(Dense(25,activation='relu'))\n",
    "model2.add(Dense(10,activation='relu'))\n",
    "model2.add(Dense(3,activation='relu'))\n",
    "\n",
    "model2.add(Dense(1))\n",
    "\n",
    "model2.compile(optimizer='adam',loss='mse')"
   ]
  },
  {
   "cell_type": "code",
   "execution_count": 72,
   "id": "ee14dc07",
   "metadata": {},
   "outputs": [
    {
     "name": "stdout",
     "output_type": "stream",
     "text": [
      "Epoch 1/100\n",
      "14/14 [==============================] - 1s 16ms/step - loss: 26.6116 - val_loss: 6.2097\n",
      "Epoch 2/100\n",
      "14/14 [==============================] - 0s 6ms/step - loss: 2.3966 - val_loss: 2.2346\n",
      "Epoch 3/100\n",
      "14/14 [==============================] - 0s 6ms/step - loss: 1.8264 - val_loss: 1.7995\n",
      "Epoch 4/100\n",
      "14/14 [==============================] - 0s 6ms/step - loss: 1.5090 - val_loss: 1.5912\n",
      "Epoch 5/100\n",
      "14/14 [==============================] - 0s 6ms/step - loss: 1.3817 - val_loss: 1.5638\n",
      "Epoch 6/100\n",
      "14/14 [==============================] - 0s 6ms/step - loss: 1.3324 - val_loss: 1.3771\n",
      "Epoch 7/100\n",
      "14/14 [==============================] - 0s 6ms/step - loss: 1.3138 - val_loss: 1.3141\n",
      "Epoch 8/100\n",
      "14/14 [==============================] - 0s 6ms/step - loss: 1.2556 - val_loss: 1.2621\n",
      "Epoch 9/100\n",
      "14/14 [==============================] - 0s 6ms/step - loss: 1.2234 - val_loss: 1.1997\n",
      "Epoch 10/100\n",
      "14/14 [==============================] - 0s 6ms/step - loss: 1.2007 - val_loss: 1.1427\n",
      "Epoch 11/100\n",
      "14/14 [==============================] - 0s 9ms/step - loss: 1.1804 - val_loss: 1.2008\n",
      "Epoch 12/100\n",
      "14/14 [==============================] - 0s 9ms/step - loss: 1.1890 - val_loss: 1.0833\n",
      "Epoch 13/100\n",
      "14/14 [==============================] - 0s 8ms/step - loss: 1.1607 - val_loss: 1.1334\n",
      "Epoch 14/100\n",
      "14/14 [==============================] - 0s 8ms/step - loss: 1.1858 - val_loss: 1.0409\n",
      "Epoch 15/100\n",
      "14/14 [==============================] - 0s 6ms/step - loss: 1.1388 - val_loss: 1.0644\n",
      "Epoch 16/100\n",
      "14/14 [==============================] - 0s 6ms/step - loss: 1.1298 - val_loss: 1.0306\n",
      "Epoch 17/100\n",
      "14/14 [==============================] - 0s 7ms/step - loss: 1.1185 - val_loss: 1.0224\n",
      "Epoch 18/100\n",
      "14/14 [==============================] - 0s 6ms/step - loss: 1.1104 - val_loss: 1.0275\n",
      "Epoch 19/100\n",
      "14/14 [==============================] - 0s 6ms/step - loss: 1.1059 - val_loss: 0.9845\n",
      "Epoch 20/100\n",
      "14/14 [==============================] - 0s 5ms/step - loss: 1.0924 - val_loss: 0.9952\n",
      "Epoch 21/100\n",
      "14/14 [==============================] - 0s 7ms/step - loss: 1.0899 - val_loss: 0.9604\n",
      "Epoch 22/100\n",
      "14/14 [==============================] - 0s 8ms/step - loss: 1.0789 - val_loss: 0.9939\n",
      "Epoch 23/100\n",
      "14/14 [==============================] - 0s 6ms/step - loss: 1.0857 - val_loss: 0.9565\n",
      "Epoch 24/100\n",
      "14/14 [==============================] - 0s 6ms/step - loss: 1.0822 - val_loss: 0.9628\n",
      "Epoch 25/100\n",
      "14/14 [==============================] - 0s 6ms/step - loss: 1.0682 - val_loss: 0.9578\n",
      "Epoch 26/100\n",
      "14/14 [==============================] - 0s 6ms/step - loss: 1.0594 - val_loss: 0.9958\n",
      "Epoch 27/100\n",
      "14/14 [==============================] - 0s 6ms/step - loss: 1.0671 - val_loss: 0.9454\n",
      "Epoch 28/100\n",
      "14/14 [==============================] - 0s 5ms/step - loss: 1.0802 - val_loss: 0.9541\n",
      "Epoch 29/100\n",
      "14/14 [==============================] - 0s 8ms/step - loss: 1.0632 - val_loss: 0.9378\n",
      "Epoch 30/100\n",
      "14/14 [==============================] - 0s 5ms/step - loss: 1.0421 - val_loss: 0.9554\n",
      "Epoch 31/100\n",
      "14/14 [==============================] - 0s 11ms/step - loss: 1.0322 - val_loss: 0.9301\n",
      "Epoch 32/100\n",
      "14/14 [==============================] - 0s 10ms/step - loss: 1.0521 - val_loss: 0.9062\n",
      "Epoch 33/100\n",
      "14/14 [==============================] - 0s 8ms/step - loss: 1.0306 - val_loss: 0.9458\n",
      "Epoch 34/100\n",
      "14/14 [==============================] - 0s 9ms/step - loss: 1.0197 - val_loss: 0.9311\n",
      "Epoch 35/100\n",
      "14/14 [==============================] - 0s 12ms/step - loss: 1.0294 - val_loss: 0.9288\n",
      "Epoch 36/100\n",
      "14/14 [==============================] - 0s 8ms/step - loss: 1.0101 - val_loss: 0.9038\n",
      "Epoch 37/100\n",
      "14/14 [==============================] - 0s 11ms/step - loss: 1.0091 - val_loss: 0.9277\n",
      "Epoch 38/100\n",
      "14/14 [==============================] - 0s 13ms/step - loss: 1.0019 - val_loss: 0.8835\n",
      "Epoch 39/100\n",
      "14/14 [==============================] - 0s 8ms/step - loss: 1.0330 - val_loss: 0.9365\n",
      "Epoch 40/100\n",
      "14/14 [==============================] - 0s 11ms/step - loss: 1.0230 - val_loss: 0.9306\n",
      "Epoch 41/100\n",
      "14/14 [==============================] - 0s 8ms/step - loss: 0.9869 - val_loss: 0.8796\n",
      "Epoch 42/100\n",
      "14/14 [==============================] - 0s 9ms/step - loss: 0.9942 - val_loss: 0.8913\n",
      "Epoch 43/100\n",
      "14/14 [==============================] - 0s 8ms/step - loss: 0.9706 - val_loss: 0.8783\n",
      "Epoch 44/100\n",
      "14/14 [==============================] - 0s 8ms/step - loss: 0.9690 - val_loss: 0.8662\n",
      "Epoch 45/100\n",
      "14/14 [==============================] - 0s 12ms/step - loss: 0.9528 - val_loss: 0.8547\n",
      "Epoch 46/100\n",
      "14/14 [==============================] - 0s 11ms/step - loss: 0.9464 - val_loss: 0.8969\n",
      "Epoch 47/100\n",
      "14/14 [==============================] - 0s 13ms/step - loss: 0.9498 - val_loss: 0.8570\n",
      "Epoch 48/100\n",
      "14/14 [==============================] - 0s 11ms/step - loss: 0.9448 - val_loss: 0.8399\n",
      "Epoch 49/100\n",
      "14/14 [==============================] - 0s 11ms/step - loss: 0.9300 - val_loss: 0.8618\n",
      "Epoch 50/100\n",
      "14/14 [==============================] - 0s 9ms/step - loss: 0.9228 - val_loss: 0.8137\n",
      "Epoch 51/100\n",
      "14/14 [==============================] - 0s 7ms/step - loss: 0.9099 - val_loss: 0.8599\n",
      "Epoch 52/100\n",
      "14/14 [==============================] - 0s 9ms/step - loss: 0.9124 - val_loss: 0.7967\n",
      "Epoch 53/100\n",
      "14/14 [==============================] - 0s 7ms/step - loss: 0.8943 - val_loss: 0.8464\n",
      "Epoch 54/100\n",
      "14/14 [==============================] - 0s 7ms/step - loss: 0.8978 - val_loss: 0.7874\n",
      "Epoch 55/100\n",
      "14/14 [==============================] - 0s 5ms/step - loss: 0.8765 - val_loss: 0.7873\n",
      "Epoch 56/100\n",
      "14/14 [==============================] - 0s 6ms/step - loss: 0.8889 - val_loss: 0.8046\n",
      "Epoch 57/100\n",
      "14/14 [==============================] - 0s 8ms/step - loss: 0.8671 - val_loss: 0.8275\n",
      "Epoch 58/100\n",
      "14/14 [==============================] - 0s 13ms/step - loss: 0.8614 - val_loss: 0.7849\n",
      "Epoch 59/100\n",
      "14/14 [==============================] - 0s 14ms/step - loss: 0.8530 - val_loss: 0.7984\n",
      "Epoch 60/100\n",
      "14/14 [==============================] - 0s 10ms/step - loss: 0.8572 - val_loss: 0.7827\n",
      "Epoch 61/100\n",
      "14/14 [==============================] - 0s 12ms/step - loss: 0.8283 - val_loss: 0.7500\n",
      "Epoch 62/100\n",
      "14/14 [==============================] - 0s 11ms/step - loss: 0.7992 - val_loss: 0.7478\n",
      "Epoch 63/100\n",
      "14/14 [==============================] - 0s 8ms/step - loss: 0.8225 - val_loss: 0.7682\n",
      "Epoch 64/100\n",
      "14/14 [==============================] - 0s 8ms/step - loss: 0.8001 - val_loss: 0.7567\n",
      "Epoch 65/100\n",
      "14/14 [==============================] - 0s 10ms/step - loss: 0.7964 - val_loss: 0.7835\n",
      "Epoch 66/100\n",
      "14/14 [==============================] - 0s 12ms/step - loss: 0.8184 - val_loss: 0.7727\n",
      "Epoch 67/100\n",
      "14/14 [==============================] - 0s 9ms/step - loss: 0.8546 - val_loss: 0.7328\n",
      "Epoch 68/100\n",
      "14/14 [==============================] - 0s 10ms/step - loss: 0.7885 - val_loss: 0.7489\n",
      "Epoch 69/100\n",
      "14/14 [==============================] - 0s 8ms/step - loss: 0.7863 - val_loss: 0.7113\n",
      "Epoch 70/100\n",
      "14/14 [==============================] - 0s 12ms/step - loss: 0.7506 - val_loss: 0.7110\n",
      "Epoch 71/100\n",
      "14/14 [==============================] - 0s 11ms/step - loss: 0.7326 - val_loss: 0.7125\n",
      "Epoch 72/100\n",
      "14/14 [==============================] - 0s 9ms/step - loss: 0.7381 - val_loss: 0.7673\n",
      "Epoch 73/100\n",
      "14/14 [==============================] - 0s 7ms/step - loss: 0.7859 - val_loss: 0.7002\n",
      "Epoch 74/100\n",
      "14/14 [==============================] - 0s 8ms/step - loss: 0.7348 - val_loss: 0.7047\n",
      "Epoch 75/100\n",
      "14/14 [==============================] - 0s 7ms/step - loss: 0.7186 - val_loss: 0.6901\n",
      "Epoch 76/100\n",
      "14/14 [==============================] - 0s 6ms/step - loss: 0.7296 - val_loss: 0.6830\n",
      "Epoch 77/100\n",
      "14/14 [==============================] - 0s 7ms/step - loss: 0.7306 - val_loss: 0.7126\n",
      "Epoch 78/100\n",
      "14/14 [==============================] - 0s 7ms/step - loss: 0.7501 - val_loss: 0.7694\n",
      "Epoch 79/100\n",
      "14/14 [==============================] - 0s 6ms/step - loss: 0.7812 - val_loss: 0.7782\n",
      "Epoch 80/100\n",
      "14/14 [==============================] - 0s 5ms/step - loss: 0.7466 - val_loss: 0.7158\n",
      "Epoch 81/100\n",
      "14/14 [==============================] - 0s 6ms/step - loss: 0.7150 - val_loss: 0.6852\n",
      "Epoch 82/100\n",
      "14/14 [==============================] - 0s 6ms/step - loss: 0.7158 - val_loss: 0.6880\n"
     ]
    },
    {
     "name": "stdout",
     "output_type": "stream",
     "text": [
      "Epoch 83/100\n",
      "14/14 [==============================] - 0s 5ms/step - loss: 0.7260 - val_loss: 0.7029\n",
      "Epoch 84/100\n",
      "14/14 [==============================] - 0s 5ms/step - loss: 0.7088 - val_loss: 0.7072\n",
      "Epoch 85/100\n",
      "14/14 [==============================] - 0s 6ms/step - loss: 0.7223 - val_loss: 0.7001\n",
      "Epoch 86/100\n",
      "14/14 [==============================] - 0s 6ms/step - loss: 0.7102 - val_loss: 0.6874\n",
      "Epoch 87/100\n",
      "14/14 [==============================] - 0s 5ms/step - loss: 0.7158 - val_loss: 0.6874\n",
      "Epoch 88/100\n",
      "14/14 [==============================] - 0s 6ms/step - loss: 0.7231 - val_loss: 0.7271\n",
      "Epoch 89/100\n",
      "14/14 [==============================] - 0s 5ms/step - loss: 0.7205 - val_loss: 0.6859\n",
      "Epoch 90/100\n",
      "14/14 [==============================] - 0s 5ms/step - loss: 0.6975 - val_loss: 0.6711\n",
      "Epoch 91/100\n",
      "14/14 [==============================] - 0s 5ms/step - loss: 0.6935 - val_loss: 0.6866\n",
      "Epoch 92/100\n",
      "14/14 [==============================] - 0s 5ms/step - loss: 0.6937 - val_loss: 0.7089\n",
      "Epoch 93/100\n",
      "14/14 [==============================] - 0s 5ms/step - loss: 0.7199 - val_loss: 0.6870\n",
      "Epoch 94/100\n",
      "14/14 [==============================] - 0s 5ms/step - loss: 0.6930 - val_loss: 0.7129\n",
      "Epoch 95/100\n",
      "14/14 [==============================] - 0s 6ms/step - loss: 0.6953 - val_loss: 0.6997\n",
      "Epoch 96/100\n",
      "14/14 [==============================] - 0s 6ms/step - loss: 0.6943 - val_loss: 0.6784\n",
      "Epoch 97/100\n",
      "14/14 [==============================] - 0s 7ms/step - loss: 0.6937 - val_loss: 0.7286\n",
      "Epoch 98/100\n",
      "14/14 [==============================] - 0s 7ms/step - loss: 0.6967 - val_loss: 0.6966\n",
      "Epoch 99/100\n",
      "14/14 [==============================] - 0s 7ms/step - loss: 0.7063 - val_loss: 0.6711\n",
      "Epoch 100/100\n",
      "14/14 [==============================] - 0s 6ms/step - loss: 0.7134 - val_loss: 0.7607\n"
     ]
    },
    {
     "data": {
      "text/plain": [
       "<keras.src.callbacks.History at 0x7fe185a07820>"
      ]
     },
     "execution_count": 72,
     "metadata": {},
     "output_type": "execute_result"
    }
   ],
   "source": [
    "model2.fit(x=X_train,y=y_train, \n",
    "          validation_data = (X_test, y_test),\n",
    "          batch_size=128, epochs=100)"
   ]
  },
  {
   "cell_type": "code",
   "execution_count": 73,
   "id": "59daf930",
   "metadata": {},
   "outputs": [],
   "source": [
    "loss2 = pd.DataFrame(model2.history.history)"
   ]
  },
  {
   "cell_type": "code",
   "execution_count": 74,
   "id": "8d38a9da",
   "metadata": {},
   "outputs": [
    {
     "data": {
      "text/plain": [
       "<AxesSubplot:>"
      ]
     },
     "execution_count": 74,
     "metadata": {},
     "output_type": "execute_result"
    },
    {
     "data": {
      "text/plain": [
       "<Figure size 720x360 with 0 Axes>"
      ]
     },
     "metadata": {},
     "output_type": "display_data"
    },
    {
     "data": {
      "image/png": "[encoded data removed]",
      "text/plain": [
       "<Figure size 432x288 with 1 Axes>"
      ]
     },
     "metadata": {
      "needs_background": "light"
     },
     "output_type": "display_data"
    }
   ],
   "source": [
    "plt.figure(figsize=(10,5))\n",
    "loss2.plot()"
   ]
  },
  {
   "cell_type": "code",
   "execution_count": 75,
   "id": "21d8629d",
   "metadata": {},
   "outputs": [
    {
     "name": "stdout",
     "output_type": "stream",
     "text": [
      "14/14 [==============================] - 0s 1ms/step\n"
     ]
    }
   ],
   "source": [
    "nn2_pred = model2.predict(X_test)"
   ]
  },
  {
   "cell_type": "code",
   "execution_count": 76,
   "id": "7dc7e6eb",
   "metadata": {},
   "outputs": [
    {
     "data": {
      "text/plain": [
       "0.7607342335649074"
      ]
     },
     "execution_count": 76,
     "metadata": {},
     "output_type": "execute_result"
    }
   ],
   "source": [
    "nn2_rmse = mean_squared_error(y_test,nn2_pred)\n",
    "nn2_rmse"
   ]
  },
  {
   "cell_type": "code",
   "execution_count": 77,
   "id": "1e8c0a93",
   "metadata": {},
   "outputs": [
    {
     "data": {
      "text/plain": [
       "0.3833338252409424"
      ]
     },
     "execution_count": 77,
     "metadata": {},
     "output_type": "execute_result"
    }
   ],
   "source": [
    "r2_value =r2_score(y_test, nn2_pred)\n",
    "r2_value"
   ]
  },
  {
   "cell_type": "markdown",
   "id": "a011fb54",
   "metadata": {},
   "source": [
    "# Model 3 z optymalizatorem Adam i dropout"
   ]
  },
  {
   "cell_type": "code",
   "execution_count": 78,
   "id": "79d017ed",
   "metadata": {},
   "outputs": [],
   "source": [
    "from tensorflow.keras.layers import Dropout"
   ]
  },
  {
   "cell_type": "code",
   "execution_count": 79,
   "id": "df0ad4c8",
   "metadata": {},
   "outputs": [],
   "source": [
    "model3 = Sequential()\n",
    "\n",
    "model3.add(Dense(50,activation='relu'))\n",
    "model3.add(Dropout(0.5))\n",
    "\n",
    "model3.add(Dense(25,activation='relu'))\n",
    "model3.add(Dropout(0.5))\n",
    "\n",
    "model3.add(Dense(10,activation='relu'))\n",
    "model3.add(Dropout(0.5))\n",
    "\n",
    "\n",
    "model3.add(Dense(1))\n",
    "\n",
    "model3.compile(optimizer='adam',loss='mse')"
   ]
  },
  {
   "cell_type": "code",
   "execution_count": 80,
   "id": "056a92fd",
   "metadata": {},
   "outputs": [
    {
     "name": "stdout",
     "output_type": "stream",
     "text": [
      "Epoch 1/100\n",
      "14/14 [==============================] - 1s 20ms/step - loss: 17866.1719 - val_loss: 1567.5496\n",
      "Epoch 2/100\n",
      "14/14 [==============================] - 0s 8ms/step - loss: 5797.5117 - val_loss: 344.4195\n",
      "Epoch 3/100\n",
      "14/14 [==============================] - 0s 9ms/step - loss: 2718.3792 - val_loss: 75.9114\n",
      "Epoch 4/100\n",
      "14/14 [==============================] - 0s 7ms/step - loss: 2565.7661 - val_loss: 14.0788\n",
      "Epoch 5/100\n",
      "14/14 [==============================] - 0s 7ms/step - loss: 1645.6274 - val_loss: 21.9671\n",
      "Epoch 6/100\n",
      "14/14 [==============================] - 0s 6ms/step - loss: 1129.5237 - val_loss: 28.2304\n",
      "Epoch 7/100\n",
      "14/14 [==============================] - 0s 7ms/step - loss: 884.8504 - val_loss: 26.3251\n",
      "Epoch 8/100\n",
      "14/14 [==============================] - 0s 10ms/step - loss: 752.1830 - val_loss: 27.2540\n",
      "Epoch 9/100\n",
      "14/14 [==============================] - 0s 10ms/step - loss: 791.0123 - val_loss: 26.8554\n",
      "Epoch 10/100\n",
      "14/14 [==============================] - 0s 10ms/step - loss: 585.9793 - val_loss: 23.2905\n",
      "Epoch 11/100\n",
      "14/14 [==============================] - 0s 8ms/step - loss: 527.5515 - val_loss: 18.8805\n",
      "Epoch 12/100\n",
      "14/14 [==============================] - 0s 8ms/step - loss: 417.5456 - val_loss: 9.1167\n",
      "Epoch 13/100\n",
      "14/14 [==============================] - 0s 10ms/step - loss: 296.5200 - val_loss: 4.5609\n",
      "Epoch 14/100\n",
      "14/14 [==============================] - 0s 10ms/step - loss: 205.0092 - val_loss: 3.3992\n",
      "Epoch 15/100\n",
      "14/14 [==============================] - 0s 11ms/step - loss: 206.1197 - val_loss: 2.7718\n",
      "Epoch 16/100\n",
      "14/14 [==============================] - 0s 10ms/step - loss: 165.6807 - val_loss: 2.6720\n",
      "Epoch 17/100\n",
      "14/14 [==============================] - 0s 10ms/step - loss: 269.8337 - val_loss: 2.7230\n",
      "Epoch 18/100\n",
      "14/14 [==============================] - 0s 7ms/step - loss: 130.5749 - val_loss: 2.8076\n",
      "Epoch 19/100\n",
      "14/14 [==============================] - 0s 7ms/step - loss: 234.0405 - val_loss: 2.8641\n",
      "Epoch 20/100\n",
      "14/14 [==============================] - 0s 6ms/step - loss: 163.1508 - val_loss: 2.9231\n",
      "Epoch 21/100\n",
      "14/14 [==============================] - 0s 6ms/step - loss: 110.8671 - val_loss: 3.0434\n",
      "Epoch 22/100\n",
      "14/14 [==============================] - 0s 6ms/step - loss: 96.1476 - val_loss: 3.1324\n",
      "Epoch 23/100\n",
      "14/14 [==============================] - 0s 9ms/step - loss: 162.3726 - val_loss: 3.1605\n",
      "Epoch 24/100\n",
      "14/14 [==============================] - 0s 11ms/step - loss: 90.2673 - val_loss: 3.2712\n",
      "Epoch 25/100\n",
      "14/14 [==============================] - 0s 10ms/step - loss: 71.6123 - val_loss: 3.3881\n",
      "Epoch 26/100\n",
      "14/14 [==============================] - 0s 11ms/step - loss: 112.4728 - val_loss: 3.4467\n",
      "Epoch 27/100\n",
      "14/14 [==============================] - 0s 8ms/step - loss: 84.6863 - val_loss: 3.5494\n",
      "Epoch 28/100\n",
      "14/14 [==============================] - 0s 7ms/step - loss: 67.3340 - val_loss: 3.6156\n",
      "Epoch 29/100\n",
      "14/14 [==============================] - 0s 6ms/step - loss: 59.3096 - val_loss: 3.6419\n",
      "Epoch 30/100\n",
      "14/14 [==============================] - 0s 6ms/step - loss: 76.2811 - val_loss: 3.7212\n",
      "Epoch 31/100\n",
      "14/14 [==============================] - 0s 6ms/step - loss: 105.0317 - val_loss: 3.7617\n",
      "Epoch 32/100\n",
      "14/14 [==============================] - 0s 6ms/step - loss: 63.0824 - val_loss: 3.8256\n",
      "Epoch 33/100\n",
      "14/14 [==============================] - 0s 8ms/step - loss: 54.7721 - val_loss: 3.8143\n",
      "Epoch 34/100\n",
      "14/14 [==============================] - 0s 12ms/step - loss: 75.5924 - val_loss: 3.8641\n",
      "Epoch 35/100\n",
      "14/14 [==============================] - 0s 8ms/step - loss: 46.3326 - val_loss: 3.8156\n",
      "Epoch 36/100\n",
      "14/14 [==============================] - 0s 9ms/step - loss: 43.5960 - val_loss: 3.7730\n",
      "Epoch 37/100\n",
      "14/14 [==============================] - 0s 10ms/step - loss: 40.1368 - val_loss: 3.7583\n",
      "Epoch 38/100\n",
      "14/14 [==============================] - 0s 9ms/step - loss: 41.0990 - val_loss: 3.7814\n",
      "Epoch 39/100\n",
      "14/14 [==============================] - 0s 9ms/step - loss: 39.5342 - val_loss: 3.8095\n",
      "Epoch 40/100\n",
      "14/14 [==============================] - 0s 10ms/step - loss: 50.3194 - val_loss: 3.8755\n",
      "Epoch 41/100\n",
      "14/14 [==============================] - 0s 14ms/step - loss: 78.0980 - val_loss: 3.9238\n",
      "Epoch 42/100\n",
      "14/14 [==============================] - 0s 8ms/step - loss: 54.6602 - val_loss: 3.8798\n",
      "Epoch 43/100\n",
      "14/14 [==============================] - 0s 10ms/step - loss: 48.0585 - val_loss: 3.8551\n",
      "Epoch 44/100\n",
      "14/14 [==============================] - 0s 9ms/step - loss: 57.1690 - val_loss: 3.7794\n",
      "Epoch 45/100\n",
      "14/14 [==============================] - 0s 9ms/step - loss: 54.6906 - val_loss: 3.7287\n",
      "Epoch 46/100\n",
      "14/14 [==============================] - 0s 10ms/step - loss: 30.2548 - val_loss: 3.7650\n",
      "Epoch 47/100\n",
      "14/14 [==============================] - 0s 9ms/step - loss: 32.9676 - val_loss: 3.8030\n",
      "Epoch 48/100\n",
      "14/14 [==============================] - 0s 11ms/step - loss: 35.8598 - val_loss: 3.8145\n",
      "Epoch 49/100\n",
      "14/14 [==============================] - 0s 8ms/step - loss: 60.1797 - val_loss: 3.8662\n",
      "Epoch 50/100\n",
      "14/14 [==============================] - 0s 11ms/step - loss: 26.6224 - val_loss: 3.9542\n",
      "Epoch 51/100\n",
      "14/14 [==============================] - 0s 9ms/step - loss: 74.5419 - val_loss: 4.0091\n",
      "Epoch 52/100\n",
      "14/14 [==============================] - 0s 7ms/step - loss: 37.7595 - val_loss: 4.1312\n",
      "Epoch 53/100\n",
      "14/14 [==============================] - 0s 7ms/step - loss: 32.8030 - val_loss: 4.1765\n",
      "Epoch 54/100\n",
      "14/14 [==============================] - 0s 8ms/step - loss: 34.7809 - val_loss: 4.1463\n",
      "Epoch 55/100\n",
      "14/14 [==============================] - 0s 6ms/step - loss: 42.1569 - val_loss: 4.1390\n",
      "Epoch 56/100\n",
      "14/14 [==============================] - 0s 5ms/step - loss: 16.7845 - val_loss: 4.1632\n",
      "Epoch 57/100\n",
      "14/14 [==============================] - 0s 6ms/step - loss: 50.0859 - val_loss: 4.1380\n",
      "Epoch 58/100\n",
      "14/14 [==============================] - 0s 6ms/step - loss: 31.5005 - val_loss: 4.1023\n",
      "Epoch 59/100\n",
      "14/14 [==============================] - 0s 5ms/step - loss: 21.1928 - val_loss: 4.1151\n",
      "Epoch 60/100\n",
      "14/14 [==============================] - 0s 6ms/step - loss: 35.5484 - val_loss: 4.1108\n",
      "Epoch 61/100\n",
      "14/14 [==============================] - 0s 6ms/step - loss: 31.1167 - val_loss: 4.0622\n",
      "Epoch 62/100\n",
      "14/14 [==============================] - 0s 6ms/step - loss: 27.5331 - val_loss: 4.0106\n",
      "Epoch 63/100\n",
      "14/14 [==============================] - 0s 6ms/step - loss: 25.6610 - val_loss: 4.0221\n",
      "Epoch 64/100\n",
      "14/14 [==============================] - 0s 7ms/step - loss: 28.4512 - val_loss: 4.0436\n",
      "Epoch 65/100\n",
      "14/14 [==============================] - 0s 6ms/step - loss: 23.3488 - val_loss: 4.0671\n",
      "Epoch 66/100\n",
      "14/14 [==============================] - 0s 6ms/step - loss: 16.3891 - val_loss: 4.1032\n",
      "Epoch 67/100\n",
      "14/14 [==============================] - 0s 6ms/step - loss: 20.9183 - val_loss: 4.1791\n",
      "Epoch 68/100\n",
      "14/14 [==============================] - 0s 7ms/step - loss: 15.7122 - val_loss: 4.1976\n",
      "Epoch 69/100\n",
      "14/14 [==============================] - 0s 5ms/step - loss: 28.0221 - val_loss: 4.1491\n",
      "Epoch 70/100\n",
      "14/14 [==============================] - 0s 7ms/step - loss: 18.3710 - val_loss: 4.1166\n",
      "Epoch 71/100\n",
      "14/14 [==============================] - 0s 6ms/step - loss: 37.2179 - val_loss: 4.0384\n",
      "Epoch 72/100\n",
      "14/14 [==============================] - 0s 6ms/step - loss: 20.4163 - val_loss: 3.9861\n",
      "Epoch 73/100\n",
      "14/14 [==============================] - 0s 7ms/step - loss: 21.8174 - val_loss: 3.9284\n",
      "Epoch 74/100\n",
      "14/14 [==============================] - 0s 5ms/step - loss: 18.6016 - val_loss: 3.8990\n",
      "Epoch 75/100\n",
      "14/14 [==============================] - 0s 7ms/step - loss: 12.6682 - val_loss: 3.8749\n",
      "Epoch 76/100\n",
      "14/14 [==============================] - 0s 5ms/step - loss: 24.0762 - val_loss: 3.8294\n",
      "Epoch 77/100\n",
      "14/14 [==============================] - 0s 7ms/step - loss: 28.5331 - val_loss: 3.8087\n",
      "Epoch 78/100\n",
      "14/14 [==============================] - 0s 5ms/step - loss: 39.3476 - val_loss: 3.9549\n",
      "Epoch 79/100\n",
      "14/14 [==============================] - 0s 6ms/step - loss: 16.9155 - val_loss: 4.0341\n",
      "Epoch 80/100\n",
      "14/14 [==============================] - 0s 6ms/step - loss: 19.6890 - val_loss: 4.1103\n",
      "Epoch 81/100\n"
     ]
    },
    {
     "name": "stdout",
     "output_type": "stream",
     "text": [
      "14/14 [==============================] - 0s 5ms/step - loss: 17.8618 - val_loss: 4.1664\n",
      "Epoch 82/100\n",
      "14/14 [==============================] - 0s 6ms/step - loss: 18.9092 - val_loss: 4.0302\n",
      "Epoch 83/100\n",
      "14/14 [==============================] - 0s 6ms/step - loss: 14.2399 - val_loss: 3.9779\n",
      "Epoch 84/100\n",
      "14/14 [==============================] - 0s 6ms/step - loss: 13.1242 - val_loss: 3.9329\n",
      "Epoch 85/100\n",
      "14/14 [==============================] - 0s 7ms/step - loss: 13.4478 - val_loss: 3.8795\n",
      "Epoch 86/100\n",
      "14/14 [==============================] - 0s 6ms/step - loss: 11.0799 - val_loss: 3.8360\n",
      "Epoch 87/100\n",
      "14/14 [==============================] - 0s 6ms/step - loss: 30.3415 - val_loss: 3.9310\n",
      "Epoch 88/100\n",
      "14/14 [==============================] - 0s 7ms/step - loss: 25.0574 - val_loss: 3.9673\n",
      "Epoch 89/100\n",
      "14/14 [==============================] - 0s 10ms/step - loss: 10.3270 - val_loss: 3.9027\n",
      "Epoch 90/100\n",
      "14/14 [==============================] - 0s 10ms/step - loss: 11.7751 - val_loss: 3.8063\n",
      "Epoch 91/100\n",
      "14/14 [==============================] - 0s 9ms/step - loss: 12.8569 - val_loss: 3.8032\n",
      "Epoch 92/100\n",
      "14/14 [==============================] - 0s 12ms/step - loss: 61.2049 - val_loss: 3.7881\n",
      "Epoch 93/100\n",
      "14/14 [==============================] - 0s 10ms/step - loss: 13.2970 - val_loss: 3.7143\n",
      "Epoch 94/100\n",
      "14/14 [==============================] - 0s 7ms/step - loss: 13.4145 - val_loss: 3.7404\n",
      "Epoch 95/100\n",
      "14/14 [==============================] - 0s 7ms/step - loss: 10.4034 - val_loss: 3.6657\n",
      "Epoch 96/100\n",
      "14/14 [==============================] - 0s 9ms/step - loss: 9.9915 - val_loss: 3.6056\n",
      "Epoch 97/100\n",
      "14/14 [==============================] - 0s 9ms/step - loss: 16.1298 - val_loss: 3.5255\n",
      "Epoch 98/100\n",
      "14/14 [==============================] - 0s 8ms/step - loss: 11.6680 - val_loss: 3.5808\n",
      "Epoch 99/100\n",
      "14/14 [==============================] - 0s 8ms/step - loss: 13.7014 - val_loss: 3.6019\n",
      "Epoch 100/100\n",
      "14/14 [==============================] - 0s 9ms/step - loss: 9.5846 - val_loss: 3.6097\n"
     ]
    },
    {
     "data": {
      "text/plain": [
       "<keras.src.callbacks.History at 0x7fe1858a7df0>"
      ]
     },
     "execution_count": 80,
     "metadata": {},
     "output_type": "execute_result"
    }
   ],
   "source": [
    "model3.fit(x=X_train,y=y_train, \n",
    "          validation_data = (X_test, y_test),\n",
    "          batch_size=128, epochs=100)"
   ]
  },
  {
   "cell_type": "code",
   "execution_count": 81,
   "id": "884c150f",
   "metadata": {},
   "outputs": [],
   "source": [
    "loss3 = pd.DataFrame(model3.history.history)"
   ]
  },
  {
   "cell_type": "code",
   "execution_count": 82,
   "id": "82eaf488",
   "metadata": {},
   "outputs": [
    {
     "data": {
      "text/plain": [
       "<AxesSubplot:>"
      ]
     },
     "execution_count": 82,
     "metadata": {},
     "output_type": "execute_result"
    },
    {
     "data": {
      "image/png": "[encoded data removed]",
      "text/plain": [
       "<Figure size 432x288 with 1 Axes>"
      ]
     },
     "metadata": {
      "needs_background": "light"
     },
     "output_type": "display_data"
    }
   ],
   "source": [
    "loss3.plot()"
   ]
  },
  {
   "cell_type": "code",
   "execution_count": 83,
   "id": "5ad72b30",
   "metadata": {},
   "outputs": [
    {
     "name": "stdout",
     "output_type": "stream",
     "text": [
      "14/14 [==============================] - 0s 2ms/step\n"
     ]
    }
   ],
   "source": [
    "nn3_pred = model3.predict(X_test)"
   ]
  },
  {
   "cell_type": "code",
   "execution_count": 84,
   "id": "b8cb83a0",
   "metadata": {},
   "outputs": [],
   "source": [
    "nn3_rmse = mean_squared_error(y_test,nn3_pred)"
   ]
  },
  {
   "cell_type": "code",
   "execution_count": 85,
   "id": "876672e0",
   "metadata": {},
   "outputs": [
    {
     "data": {
      "text/plain": [
       "3.609731222565619"
      ]
     },
     "execution_count": 85,
     "metadata": {},
     "output_type": "execute_result"
    }
   ],
   "source": [
    "nn3_rmse"
   ]
  },
  {
   "cell_type": "code",
   "execution_count": 86,
   "id": "b38be9f5",
   "metadata": {},
   "outputs": [
    {
     "data": {
      "text/plain": [
       "-1.926119328818071"
      ]
     },
     "execution_count": 86,
     "metadata": {},
     "output_type": "execute_result"
    }
   ],
   "source": [
    "r2_value = r2_score(y_test, nn3_pred)\n",
    "r2_value"
   ]
  },
  {
   "cell_type": "markdown",
   "id": "ffb74be0",
   "metadata": {},
   "source": [
    "# Model 4 z wieksza iloscia neuronow nr 2, opt = adam"
   ]
  },
  {
   "cell_type": "code",
   "execution_count": 87,
   "id": "a829957e",
   "metadata": {},
   "outputs": [],
   "source": [
    "model4 = Sequential()\n",
    "\n",
    "model4.add(Dense(200,activation='relu'))\n",
    "model4.add(Dense(100,activation='relu'))\n",
    "model4.add(Dense(50,activation='relu'))\n",
    "model4.add(Dense(25,activation='relu'))\n",
    "model4.add(Dense(10,activation='relu'))\n",
    "model4.add(Dense(3,activation='relu'))\n",
    "\n",
    "\n",
    "model4.add(Dense(1))\n",
    "\n",
    "model4.compile(optimizer='adam',loss='mse')"
   ]
  },
  {
   "cell_type": "code",
   "execution_count": 88,
   "id": "4fe8d9a1",
   "metadata": {},
   "outputs": [
    {
     "name": "stdout",
     "output_type": "stream",
     "text": [
      "Epoch 1/100\n",
      "14/14 [==============================] - 1s 17ms/step - loss: 4.1436 - val_loss: 2.2125\n",
      "Epoch 2/100\n",
      "14/14 [==============================] - 0s 7ms/step - loss: 1.3826 - val_loss: 1.2868\n",
      "Epoch 3/100\n",
      "14/14 [==============================] - 0s 9ms/step - loss: 1.2859 - val_loss: 1.1585\n",
      "Epoch 4/100\n",
      "14/14 [==============================] - 0s 10ms/step - loss: 1.2451 - val_loss: 1.2017\n",
      "Epoch 5/100\n",
      "14/14 [==============================] - 0s 9ms/step - loss: 1.2427 - val_loss: 1.1704\n",
      "Epoch 6/100\n",
      "14/14 [==============================] - 0s 10ms/step - loss: 1.1921 - val_loss: 1.0525\n",
      "Epoch 7/100\n",
      "14/14 [==============================] - 0s 9ms/step - loss: 1.1474 - val_loss: 1.0381\n",
      "Epoch 8/100\n",
      "14/14 [==============================] - 0s 8ms/step - loss: 1.0868 - val_loss: 1.0763\n",
      "Epoch 9/100\n",
      "14/14 [==============================] - 0s 10ms/step - loss: 1.0519 - val_loss: 1.0569\n",
      "Epoch 10/100\n",
      "14/14 [==============================] - 0s 9ms/step - loss: 1.0538 - val_loss: 1.1366\n",
      "Epoch 11/100\n",
      "14/14 [==============================] - 0s 9ms/step - loss: 1.0574 - val_loss: 1.1721\n",
      "Epoch 12/100\n",
      "14/14 [==============================] - 0s 11ms/step - loss: 1.0094 - val_loss: 0.8880\n",
      "Epoch 13/100\n",
      "14/14 [==============================] - 0s 10ms/step - loss: 0.8635 - val_loss: 0.9478\n",
      "Epoch 14/100\n",
      "14/14 [==============================] - 0s 10ms/step - loss: 0.9269 - val_loss: 0.8263\n",
      "Epoch 15/100\n",
      "14/14 [==============================] - 0s 7ms/step - loss: 0.9824 - val_loss: 0.7968\n",
      "Epoch 16/100\n",
      "14/14 [==============================] - 0s 8ms/step - loss: 0.8317 - val_loss: 0.9411\n",
      "Epoch 17/100\n",
      "14/14 [==============================] - 0s 9ms/step - loss: 0.8426 - val_loss: 0.8350\n",
      "Epoch 18/100\n",
      "14/14 [==============================] - 0s 9ms/step - loss: 0.7669 - val_loss: 1.0115\n",
      "Epoch 19/100\n",
      "14/14 [==============================] - 0s 8ms/step - loss: 0.8346 - val_loss: 0.7490\n",
      "Epoch 20/100\n",
      "14/14 [==============================] - 0s 9ms/step - loss: 0.7591 - val_loss: 0.7423\n",
      "Epoch 21/100\n",
      "14/14 [==============================] - 0s 8ms/step - loss: 0.7706 - val_loss: 0.7260\n",
      "Epoch 22/100\n",
      "14/14 [==============================] - 0s 9ms/step - loss: 0.7825 - val_loss: 0.9500\n",
      "Epoch 23/100\n",
      "14/14 [==============================] - 0s 7ms/step - loss: 0.7623 - val_loss: 0.7619\n",
      "Epoch 24/100\n",
      "14/14 [==============================] - 0s 9ms/step - loss: 0.8137 - val_loss: 0.7884\n",
      "Epoch 25/100\n",
      "14/14 [==============================] - 0s 8ms/step - loss: 0.7672 - val_loss: 0.8277\n",
      "Epoch 26/100\n",
      "14/14 [==============================] - 0s 9ms/step - loss: 0.7929 - val_loss: 0.8492\n",
      "Epoch 27/100\n",
      "14/14 [==============================] - 0s 6ms/step - loss: 0.7666 - val_loss: 0.7771\n",
      "Epoch 28/100\n",
      "14/14 [==============================] - 0s 15ms/step - loss: 0.7639 - val_loss: 0.7211\n",
      "Epoch 29/100\n",
      "14/14 [==============================] - 0s 14ms/step - loss: 0.7337 - val_loss: 0.7548\n",
      "Epoch 30/100\n",
      "14/14 [==============================] - 0s 10ms/step - loss: 0.7188 - val_loss: 0.7145\n",
      "Epoch 31/100\n",
      "14/14 [==============================] - 0s 12ms/step - loss: 0.7470 - val_loss: 0.8557\n",
      "Epoch 32/100\n",
      "14/14 [==============================] - 0s 12ms/step - loss: 0.7584 - val_loss: 0.7009\n",
      "Epoch 33/100\n",
      "14/14 [==============================] - 0s 10ms/step - loss: 0.7010 - val_loss: 0.7310\n",
      "Epoch 34/100\n",
      "14/14 [==============================] - 0s 13ms/step - loss: 0.7090 - val_loss: 0.7403\n",
      "Epoch 35/100\n",
      "14/14 [==============================] - 0s 11ms/step - loss: 0.7271 - val_loss: 0.7832\n",
      "Epoch 36/100\n",
      "14/14 [==============================] - 0s 11ms/step - loss: 0.7483 - val_loss: 0.7632\n",
      "Epoch 37/100\n",
      "14/14 [==============================] - 0s 14ms/step - loss: 0.7401 - val_loss: 0.7150\n",
      "Epoch 38/100\n",
      "14/14 [==============================] - 0s 11ms/step - loss: 0.7250 - val_loss: 0.7244\n",
      "Epoch 39/100\n",
      "14/14 [==============================] - 0s 15ms/step - loss: 0.7127 - val_loss: 0.7228\n",
      "Epoch 40/100\n",
      "14/14 [==============================] - 0s 11ms/step - loss: 0.7782 - val_loss: 0.9163\n",
      "Epoch 41/100\n",
      "14/14 [==============================] - 0s 12ms/step - loss: 0.8477 - val_loss: 0.7649\n",
      "Epoch 42/100\n",
      "14/14 [==============================] - 0s 14ms/step - loss: 0.8115 - val_loss: 0.7537\n",
      "Epoch 43/100\n",
      "14/14 [==============================] - 0s 11ms/step - loss: 0.7420 - val_loss: 0.7196\n",
      "Epoch 44/100\n",
      "14/14 [==============================] - 0s 15ms/step - loss: 0.7384 - val_loss: 0.7258\n",
      "Epoch 45/100\n",
      "14/14 [==============================] - 0s 8ms/step - loss: 0.7425 - val_loss: 0.7192\n",
      "Epoch 46/100\n",
      "14/14 [==============================] - 0s 11ms/step - loss: 0.7036 - val_loss: 0.7096\n",
      "Epoch 47/100\n",
      "14/14 [==============================] - 0s 14ms/step - loss: 0.7160 - val_loss: 0.8383\n",
      "Epoch 48/100\n",
      "14/14 [==============================] - 0s 11ms/step - loss: 0.7853 - val_loss: 0.7215\n",
      "Epoch 49/100\n",
      "14/14 [==============================] - 0s 10ms/step - loss: 0.6997 - val_loss: 0.7136\n",
      "Epoch 50/100\n",
      "14/14 [==============================] - 0s 11ms/step - loss: 0.7134 - val_loss: 0.7749\n",
      "Epoch 51/100\n",
      "14/14 [==============================] - 0s 10ms/step - loss: 0.7266 - val_loss: 0.7143\n",
      "Epoch 52/100\n",
      "14/14 [==============================] - 0s 14ms/step - loss: 0.7259 - val_loss: 0.7357\n",
      "Epoch 53/100\n",
      "14/14 [==============================] - 0s 11ms/step - loss: 0.7049 - val_loss: 0.8528\n",
      "Epoch 54/100\n",
      "14/14 [==============================] - 0s 12ms/step - loss: 0.7472 - val_loss: 0.8190\n",
      "Epoch 55/100\n",
      "14/14 [==============================] - 0s 7ms/step - loss: 0.7491 - val_loss: 0.7747\n",
      "Epoch 56/100\n",
      "14/14 [==============================] - 0s 9ms/step - loss: 0.7510 - val_loss: 0.8471\n",
      "Epoch 57/100\n",
      "14/14 [==============================] - 0s 8ms/step - loss: 0.7462 - val_loss: 0.7596\n",
      "Epoch 58/100\n",
      "14/14 [==============================] - 0s 8ms/step - loss: 0.7281 - val_loss: 0.7386\n",
      "Epoch 59/100\n",
      "14/14 [==============================] - 0s 8ms/step - loss: 0.7158 - val_loss: 0.7267\n",
      "Epoch 60/100\n",
      "14/14 [==============================] - 0s 7ms/step - loss: 0.6876 - val_loss: 0.8052\n",
      "Epoch 61/100\n",
      "14/14 [==============================] - 0s 6ms/step - loss: 0.7176 - val_loss: 0.7119\n",
      "Epoch 62/100\n",
      "14/14 [==============================] - 0s 6ms/step - loss: 0.6882 - val_loss: 0.7143\n",
      "Epoch 63/100\n",
      "14/14 [==============================] - 0s 11ms/step - loss: 0.7024 - val_loss: 0.7183\n",
      "Epoch 64/100\n",
      "14/14 [==============================] - 0s 13ms/step - loss: 0.7214 - val_loss: 0.7191\n",
      "Epoch 65/100\n",
      "14/14 [==============================] - 0s 15ms/step - loss: 0.6912 - val_loss: 0.8238\n",
      "Epoch 66/100\n",
      "14/14 [==============================] - 0s 10ms/step - loss: 0.7167 - val_loss: 0.8570\n",
      "Epoch 67/100\n",
      "14/14 [==============================] - 0s 12ms/step - loss: 0.7562 - val_loss: 0.7187\n",
      "Epoch 68/100\n",
      "14/14 [==============================] - 0s 7ms/step - loss: 0.6887 - val_loss: 0.7097\n",
      "Epoch 69/100\n",
      "14/14 [==============================] - 0s 8ms/step - loss: 0.6803 - val_loss: 0.7258\n",
      "Epoch 70/100\n",
      "14/14 [==============================] - 0s 9ms/step - loss: 0.7203 - val_loss: 0.7076\n",
      "Epoch 71/100\n",
      "14/14 [==============================] - 0s 8ms/step - loss: 0.7064 - val_loss: 0.7737\n",
      "Epoch 72/100\n",
      "14/14 [==============================] - 0s 8ms/step - loss: 0.7464 - val_loss: 0.7161\n",
      "Epoch 73/100\n",
      "14/14 [==============================] - 0s 8ms/step - loss: 0.7027 - val_loss: 0.7566\n",
      "Epoch 74/100\n",
      "14/14 [==============================] - 0s 7ms/step - loss: 0.6881 - val_loss: 0.7181\n",
      "Epoch 75/100\n",
      "14/14 [==============================] - 0s 8ms/step - loss: 0.6784 - val_loss: 0.7533\n",
      "Epoch 76/100\n",
      "14/14 [==============================] - 0s 7ms/step - loss: 0.6909 - val_loss: 0.7246\n",
      "Epoch 77/100\n",
      "14/14 [==============================] - 0s 8ms/step - loss: 0.6982 - val_loss: 0.7344\n",
      "Epoch 78/100\n",
      "14/14 [==============================] - 0s 6ms/step - loss: 0.6925 - val_loss: 0.6894\n",
      "Epoch 79/100\n",
      "14/14 [==============================] - 0s 5ms/step - loss: 0.6922 - val_loss: 0.8223\n",
      "Epoch 80/100\n",
      "14/14 [==============================] - 0s 7ms/step - loss: 0.7195 - val_loss: 0.6908\n",
      "Epoch 81/100\n",
      "14/14 [==============================] - 0s 7ms/step - loss: 0.6873 - val_loss: 0.6807\n",
      "Epoch 82/100\n"
     ]
    },
    {
     "name": "stdout",
     "output_type": "stream",
     "text": [
      "14/14 [==============================] - 0s 6ms/step - loss: 0.6732 - val_loss: 0.6958\n",
      "Epoch 83/100\n",
      "14/14 [==============================] - 0s 6ms/step - loss: 0.6883 - val_loss: 0.6764\n",
      "Epoch 84/100\n",
      "14/14 [==============================] - 0s 7ms/step - loss: 0.6730 - val_loss: 0.7707\n",
      "Epoch 85/100\n",
      "14/14 [==============================] - 0s 8ms/step - loss: 0.6907 - val_loss: 0.7398\n",
      "Epoch 86/100\n",
      "14/14 [==============================] - 0s 8ms/step - loss: 0.6963 - val_loss: 0.7330\n",
      "Epoch 87/100\n",
      "14/14 [==============================] - 0s 7ms/step - loss: 0.7163 - val_loss: 0.7805\n",
      "Epoch 88/100\n",
      "14/14 [==============================] - 0s 6ms/step - loss: 0.7321 - val_loss: 0.7164\n",
      "Epoch 89/100\n",
      "14/14 [==============================] - 0s 6ms/step - loss: 0.6705 - val_loss: 0.7130\n",
      "Epoch 90/100\n",
      "14/14 [==============================] - 0s 6ms/step - loss: 0.6820 - val_loss: 0.7516\n",
      "Epoch 91/100\n",
      "14/14 [==============================] - 0s 8ms/step - loss: 0.7080 - val_loss: 0.6920\n",
      "Epoch 92/100\n",
      "14/14 [==============================] - 0s 7ms/step - loss: 0.6757 - val_loss: 0.7120\n",
      "Epoch 93/100\n",
      "14/14 [==============================] - 0s 10ms/step - loss: 0.6673 - val_loss: 0.7791\n",
      "Epoch 94/100\n",
      "14/14 [==============================] - 0s 11ms/step - loss: 0.6969 - val_loss: 0.6850\n",
      "Epoch 95/100\n",
      "14/14 [==============================] - 0s 10ms/step - loss: 0.6587 - val_loss: 0.7666\n",
      "Epoch 96/100\n",
      "14/14 [==============================] - 0s 10ms/step - loss: 0.6663 - val_loss: 0.8175\n",
      "Epoch 97/100\n",
      "14/14 [==============================] - 0s 9ms/step - loss: 0.7254 - val_loss: 0.7230\n",
      "Epoch 98/100\n",
      "14/14 [==============================] - 0s 10ms/step - loss: 0.6952 - val_loss: 0.6673\n",
      "Epoch 99/100\n",
      "14/14 [==============================] - 0s 11ms/step - loss: 0.7462 - val_loss: 0.8427\n",
      "Epoch 100/100\n",
      "14/14 [==============================] - 0s 10ms/step - loss: 0.8027 - val_loss: 0.7774\n"
     ]
    },
    {
     "data": {
      "text/plain": [
       "<keras.src.callbacks.History at 0x7fe186e813d0>"
      ]
     },
     "execution_count": 88,
     "metadata": {},
     "output_type": "execute_result"
    }
   ],
   "source": [
    "model4.fit(x=X_train,y=y_train, \n",
    "          validation_data = (X_test, y_test),\n",
    "          batch_size=128, epochs=100)"
   ]
  },
  {
   "cell_type": "code",
   "execution_count": 89,
   "id": "6eb93c72",
   "metadata": {},
   "outputs": [],
   "source": [
    "loss4 = pd.DataFrame(model4.history.history)"
   ]
  },
  {
   "cell_type": "code",
   "execution_count": 90,
   "id": "bcaca205",
   "metadata": {},
   "outputs": [
    {
     "data": {
      "text/plain": [
       "<AxesSubplot:>"
      ]
     },
     "execution_count": 90,
     "metadata": {},
     "output_type": "execute_result"
    },
    {
     "data": {
      "text/plain": [
       "<Figure size 720x360 with 0 Axes>"
      ]
     },
     "metadata": {},
     "output_type": "display_data"
    },
    {
     "data": {
      "image/png": "[encoded data removed]",
      "text/plain": [
       "<Figure size 432x288 with 1 Axes>"
      ]
     },
     "metadata": {
      "needs_background": "light"
     },
     "output_type": "display_data"
    }
   ],
   "source": [
    "plt.figure(figsize=(10,5))\n",
    "loss4.plot()"
   ]
  },
  {
   "cell_type": "code",
   "execution_count": 91,
   "id": "0e9b2b37",
   "metadata": {},
   "outputs": [
    {
     "name": "stdout",
     "output_type": "stream",
     "text": [
      "14/14 [==============================] - 0s 2ms/step\n"
     ]
    }
   ],
   "source": [
    "nn4_pred = model4.predict(X_test)"
   ]
  },
  {
   "cell_type": "code",
   "execution_count": 92,
   "id": "6bb3f7b7",
   "metadata": {},
   "outputs": [
    {
     "data": {
      "text/plain": [
       "0.7774248380197302"
      ]
     },
     "execution_count": 92,
     "metadata": {},
     "output_type": "execute_result"
    }
   ],
   "source": [
    "nn4_rmse = mean_squared_error(y_test,nn4_pred)\n",
    "nn4_rmse"
   ]
  },
  {
   "cell_type": "code",
   "execution_count": 93,
   "id": "5a686f6e",
   "metadata": {},
   "outputs": [
    {
     "data": {
      "text/plain": [
       "0.36980409205759424"
      ]
     },
     "execution_count": 93,
     "metadata": {},
     "output_type": "execute_result"
    }
   ],
   "source": [
    "r2_value = r2_score(y_test, nn4_pred)\n",
    "r2_value"
   ]
  },
  {
   "cell_type": "markdown",
   "id": "082ff328",
   "metadata": {},
   "source": [
    "# Wnioski"
   ]
  },
  {
   "cell_type": "markdown",
   "id": "b5dceb7c",
   "metadata": {},
   "source": [
    "Najlepszym modelem, który wykazywał skuteczność na poziomie ponad 50 % były lasy losowe. Sieci neuronowe pomimo zmian parametrów nie wykazały zbyt dobrej skuteczności. Drzewa decyzyjne i lasy losowe okreslały podobny błąd i podobne dopasowanie. \n",
    "\n",
    "W przyszłości planuje poprawić model wykorzystując np. biblioteki XBoost lub LightGBM."
   ]
  }
 ],
 "metadata": {
  "kernelspec": {
   "display_name": "Python 3 (ipykernel)",
   "language": "python",
   "name": "python3"
  },
  "language_info": {
   "codemirror_mode": {
    "name": "ipython",
    "version": 3
   },
   "file_extension": ".py",
   "mimetype": "text/x-python",
   "name": "python",
   "nbconvert_exporter": "python",
   "pygments_lexer": "ipython3",
   "version": "3.9.12"
  }
 },
 "nbformat": 4,
 "nbformat_minor": 5
}
